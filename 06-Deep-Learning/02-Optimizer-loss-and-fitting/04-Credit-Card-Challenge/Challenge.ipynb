{
 "cells": [
  {
   "cell_type": "markdown",
   "metadata": {},
   "source": [
    "# Deep Learning - Day 2 - Challenge\n",
    "\n",
    "\n",
    "All the previous exercises made you take a closer look at all the different parts of a neural network: the architecture, the compilation and the fitting.\n",
    "\n",
    "Let's now work on a real-life dataset that has a lot of data!\n",
    "\n",
    "# The data\n",
    "\n",
    "For this open challenge, you will work with data extracted from credit card transactions. As these are sensitive data, from all the 31 columns, only 3 are known: the rest are data that have been transformed to anonymize them (in fact, they are PCA projections of initial data).\n",
    "\n",
    "The other three known columns are:\n",
    "- \"TIME\": the time elapsed between the transaction and the first transaction in the dataset\n",
    "- \"AMOUNT\": the amount of the transaction\n",
    "- \"CLASS\": 0 means that the transaction is valid whereas 1 means that it is a fraud.\n",
    "\n",
    "Start by downloading the data on the Kaggle website [here](https://www.kaggle.com/mlg-ulb/creditcardfraud) - you can read more about the data over there.\n",
    "\n",
    "# First task - Transaction Amount Prediction\n",
    "\n",
    "Here, you will work on a regression task, where you will try to predict the amount of the transaction, which is the \"AMOUNT\" column. For this task, you will drop the \"CLASS\" dataset are you are not supposed to know if the transaction is a fraud or not.\n",
    "\n",
    "- Build you architecture, compile it and fit in on the data.\n",
    "- Do not forget to validate your result with a test set (or even better, with a real cross-validation)\n",
    "- To know whether your score is correct or not, compare it to a simple benchmark."
   ]
  },
  {
   "cell_type": "code",
   "execution_count": 1,
   "metadata": {},
   "outputs": [],
   "source": [
    "# YOUR CODE HERE"
   ]
  },
  {
   "cell_type": "markdown",
   "metadata": {},
   "source": [
    "# Second task - Fraud detection\n",
    "\n",
    "In this second task, you can reload your data and work on the detection of the fraud, which is in the \"CLASS\" column. You again have to build a neural network for this classification task. But first, you should look at the number of occurences of the 0 (= not a fraud) class against the 1 (= fraud) class. You can think of strategies to work this out. Otherwise, try to achieve the best possible score."
   ]
  },
  {
   "cell_type": "code",
   "execution_count": null,
   "metadata": {},
   "outputs": [],
   "source": [
    "# YOUR CODE HERE"
   ]
  }
 ],
 "metadata": {
  "kernelspec": {
   "display_name": "Python 3",
   "language": "python",
   "name": "python3"
  },
  "language_info": {
   "codemirror_mode": {
    "name": "ipython",
    "version": 3
   },
   "file_extension": ".py",
   "mimetype": "text/x-python",
   "name": "python",
   "nbconvert_exporter": "python",
   "pygments_lexer": "ipython3",
   "version": "3.8.6"
  }
 },
 "nbformat": 4,
 "nbformat_minor": 2
}
