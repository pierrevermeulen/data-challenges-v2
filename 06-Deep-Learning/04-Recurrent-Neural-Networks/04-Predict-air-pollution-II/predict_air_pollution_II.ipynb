{
 "cells": [
  {
   "cell_type": "markdown",
   "metadata": {},
   "source": [
    "# Deep Learning week - Day 4 - Predict Air Pollution II\n",
    "\n",
    "### Exercise objectives\n",
    "- Work with sequence of different lengths\n",
    "- Use RNNs to return outputs for each observation in the sequences\n",
    "\n",
    "<hr>\n",
    "<hr>\n",
    "\n",
    "This exercise is a little bit different from the previous one in which you had a sequence of weather and pollution values and for which you were predicting the pollution value the day just after the observed sequence. \n",
    "\n",
    "In this exercise, you observe _only_ the weather features, and you will  predict one value of air pollution for each observation in the input sequence. What is the use-case? Let's say that you have devices that are able to measure the air pollution somewhere and to relate it to some weather features. That is fine! But in another place, you have only weather measurements and no way to measure the air pollution. Then, you will use the relation between the weather features and the air pollution in one place to be able to predict the air pollution based on the weather features in another place. \n",
    "\n",
    "The idea here is to predict a variable (the air pollution) for each observation of your sequence. \n",
    "\n",
    "\n",
    "# Data\n",
    "\n",
    "The data here corresponds to hourly measurements of the air pollution (feature: `pm2.5`, which is the concentration of 2.5 millimeter particles) that you will try to predict. Among the other related features, you have:\n",
    "- TEMP: Temperature\n",
    "- DEWP: Dew Point\n",
    "- PRES: Pressure\n",
    "- Ir: Cumulated hours of rain\n",
    "- Iws: Cumulated wind speed\n",
    "- Is: Cumulated hours of snow\n",
    "\n",
    "❓ **Question** ❓ Load the data `data.txt` - use the first column as the index of a panda Dataframe.\n",
    "Let's consider only the features presented above (pm2.5, TEMP, DEWP, PRES, Ir, Iws and Is).\n",
    "\n",
    "Also,  normalize the variables `pm2.5` and `PRES` by a factor 1000."
   ]
  },
  {
   "cell_type": "code",
   "execution_count": null,
   "metadata": {},
   "outputs": [],
   "source": [
    "### YOUR CODE HERE"
   ]
  },
  {
   "cell_type": "markdown",
   "metadata": {},
   "source": [
    "❓ **Question** ❓ Separate `df` into `df_train` and `df_test` such that the first 80% of the dataframe are in the training. And the last 20% in the test set."
   ]
  },
  {
   "cell_type": "code",
   "execution_count": null,
   "metadata": {},
   "outputs": [],
   "source": [
    "### YOUR CODE HERE"
   ]
  },
  {
   "cell_type": "markdown",
   "metadata": {},
   "source": [
    "As this exercise is very similar to the previous one, less guidance is given here.\n",
    "\n",
    "❓ **Question** ❓ Write a function that, given a input dataframe, returns a dataset $(X, y)$ where $X$ are sequences of observations and $y$ are their related pollution levels.\n",
    "\n",
    "- Each observation corresponds to the weather features : TEMP, DEWP, PRES, Ir, Is, Iws. \n",
    "- If there are 6 observations from Day 1 to Day 6, then the corresponding values to predict is the sequence of pollution levels from Day 1 to Day 6.\n",
    "\n",
    "❗ **Remark**❗ In the last exercise, all the sequences had the same lengths. Here, they change with respect to the `sequence_lengths` argument, which is a list of integers:\n",
    "- the length of `sequence_lengths` corresponds to the number of sequence you want to subsample from your initial sequence\n",
    "- the $i$-th value of `sequence_lengths` corresponds to the length of the $i$-th sequence.\n",
    "For instance, if `sequence_lengths = [7, 9, 6]`, $X$ will corresponds to three sequences: the first one with 7 observations, the second one with 9 observations and the third one with 6 observations.\n",
    "\n",
    "❗ **Remark**❗ Apply your function to get a training and test set\n",
    "\n",
    "❗ **Remark**❗ You are free to do whatever you want with the missing values that are in the inputs and outputs. The idea is not to spend much time on them but to get usable data."
   ]
  },
  {
   "cell_type": "code",
   "execution_count": null,
   "metadata": {},
   "outputs": [],
   "source": [
    "def get_X_y(df, sequence_lengths):\n",
    "\n",
    "    ### YOUR CODE HERE\n",
    "    \n",
    "    return X, y\n",
    "\n",
    "sequence_lengths_train = np.random.randint(15, 30, 1000)\n",
    "X_train, y_train = get_X_y(df_train, sequence_lengths_train)\n",
    "\n",
    "sequence_lengths_test = np.random.randint(20, 30, 200)\n",
    "X_test, y_test = get_X_y(df_test, sequence_lengths_test)"
   ]
  },
  {
   "cell_type": "markdown",
   "metadata": {},
   "source": [
    "❓ **Question** ❓ Your input sequences have different lengths. For this reason, do not forget to pad them. For the model to work, you also need to pad your target values `y_train` and `y_test`.\n",
    "\n",
    "You need all your sequences (train and test, X **and** y) to be of same length (not only X!). To do so, use the `maxlen` keyword - [see documentation](https://www.tensorflow.org/api_docs/python/tf/keras/preprocessing/sequence/pad_sequences)"
   ]
  },
  {
   "cell_type": "code",
   "execution_count": null,
   "metadata": {},
   "outputs": [],
   "source": [
    "### YOUR CODE HERE"
   ]
  },
  {
   "cell_type": "markdown",
   "metadata": {},
   "source": [
    "# Model\n",
    "\n",
    "❓ **Question** ❓ Initialize the model of your choice here. But don't forget, you have to return a sequence of outputs!\n",
    "\n",
    "Do not forget to mask the padded values ;) (PS: You need to do that only for the inputs. Use the padded targets as normal targets)."
   ]
  },
  {
   "cell_type": "code",
   "execution_count": null,
   "metadata": {},
   "outputs": [],
   "source": [
    "def init_model():\n",
    "    ### YOUR CODE HERE"
   ]
  },
  {
   "cell_type": "markdown",
   "metadata": {},
   "source": [
    "❓ **Question** ❓ Fit your model and evaluate it on the test data"
   ]
  },
  {
   "cell_type": "code",
   "execution_count": null,
   "metadata": {},
   "outputs": [],
   "source": [
    "### YOUR CODE HERE"
   ]
  },
  {
   "cell_type": "markdown",
   "metadata": {},
   "source": [
    "❓ **Question** ❓ Compare your prediction to a benchmark prediction"
   ]
  },
  {
   "cell_type": "code",
   "execution_count": null,
   "metadata": {},
   "outputs": [],
   "source": [
    "# To complete"
   ]
  },
  {
   "cell_type": "code",
   "execution_count": null,
   "metadata": {},
   "outputs": [],
   "source": []
  },
  {
   "cell_type": "markdown",
   "metadata": {},
   "source": [
    "❓ **Question** ❓ Improve your model by adjusting the different hyperparameters of by stacking different RNNs. You should be able to reach a MAE of 0.04 on the test set!"
   ]
  },
  {
   "cell_type": "code",
   "execution_count": null,
   "metadata": {},
   "outputs": [],
   "source": [
    "def init_model_2():\n",
    "    ### YOUR CODE HERE "
   ]
  },
  {
   "cell_type": "code",
   "execution_count": null,
   "metadata": {},
   "outputs": [],
   "source": []
  }
 ],
 "metadata": {
  "kernelspec": {
   "display_name": "Python 3",
   "language": "python",
   "name": "python3"
  },
  "language_info": {
   "codemirror_mode": {
    "name": "ipython",
    "version": 3
   },
   "file_extension": ".py",
   "mimetype": "text/x-python",
   "name": "python",
   "nbconvert_exporter": "python",
   "pygments_lexer": "ipython3",
   "version": "3.8.6"
  },
  "toc": {
   "base_numbering": 1,
   "nav_menu": {},
   "number_sections": false,
   "sideBar": true,
   "skip_h1_title": false,
   "title_cell": "Table of Contents",
   "title_sidebar": "Contents",
   "toc_cell": false,
   "toc_position": {},
   "toc_section_display": true,
   "toc_window_display": false
  },
  "varInspector": {
   "cols": {
    "lenName": 16,
    "lenType": 16,
    "lenVar": 40
   },
   "kernels_config": {
    "python": {
     "delete_cmd_postfix": "",
     "delete_cmd_prefix": "del ",
     "library": "var_list.py",
     "varRefreshCmd": "print(var_dic_list())"
    },
    "r": {
     "delete_cmd_postfix": ") ",
     "delete_cmd_prefix": "rm(",
     "library": "var_list.r",
     "varRefreshCmd": "cat(var_dic_list()) "
    }
   },
   "types_to_exclude": [
    "module",
    "function",
    "builtin_function_or_method",
    "instance",
    "_Feature"
   ],
   "window_display": false
  }
 },
 "nbformat": 4,
 "nbformat_minor": 2
}
