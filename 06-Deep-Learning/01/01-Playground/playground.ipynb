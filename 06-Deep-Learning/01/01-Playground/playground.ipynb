{
 "cells": [
  {
   "cell_type": "markdown",
   "metadata": {},
   "source": [
    "# Deep Learning week - Day 1 - Playground\n",
    "\n",
    "### Exercise objectives:\n",
    "\n",
    "- Get a visual representation of Neural Networks\n",
    "- Get a better intuition of what Neural Networks are doing\n",
    "\n",
    "<hr>\n",
    "<hr>\n",
    "\n",
    "This first exercise does not require much code. It is your starting point into the Deep Learning journey.\n",
    "\n",
    "As things are clearer with a visual representation, let's dig into the Tensorflow playground that allows you to play with some parts of a Neural network."
   ]
  },
  {
   "cell_type": "markdown",
   "metadata": {},
   "source": [
    "# 1 - The data\n",
    "\n",
    "Let's go on the [Playground](https://playground.tensorflow.org/#activation=tanh&batchSize=10&dataset=circle&regDataset=reg-plane&learningRate=0.03&regularizationRate=0&noise=0&networkShape=4,2&seed=0.13983&showTestData=false&discretize=false&percTrainData=50&x=true&y=true&xTimesY=false&xSquared=false&ySquared=false&cosX=false&sinX=false&cosY=false&sinY=false&collectStats=false&problem=classification&initZero=false&hideText=false&regularization_hide=true&showTestData_hide=false&stepButton_hide=false&activation_hide=true&problem_hide=false&batchSize_hide=true&dataset_hide=false&resetButton_hide=false&discretize_hide=false&playButton_hide=false&learningRate_hide=true&regularizationRate_hide=true&percTrainData_hide=false&numHiddenLayers_hide=false) and select the following type of data : \n",
    "\n",
    "- A classification problem \n",
    "- The circle dataset (blue dots inside a circle of oranges dots)\n",
    "- Ratio of training to test data : 70%\n",
    "- No noise (=0)\n",
    "- Do not show test data (right panel) and do not discretize the output\n"
   ]
  },
  {
   "cell_type": "markdown",
   "metadata": {},
   "source": [
    "# 2 - The features\n",
    "\n",
    "Here, select only the features $X_1$ and $X_2$ - unselect the other features if necessary.\n",
    "\n",
    "❓ Question ❓ In the case where you use the other variables, as $X_1^{2}$, $X_2^{2}$, $X_1 X_2$, $sin(X_1)$ and $sin(X_2)$, what type of classic Machine Learning operation does it corresponds to?\n",
    "\n",
    "Answer : It corresponds to some type of feature engineering where you transform them (by multiplication or by applying a sinus).\n",
    "\n",
    "Here, in this exercise but also tomorrow, we will only use the raw input features $X_1$ and $X_2$. "
   ]
  },
  {
   "cell_type": "markdown",
   "metadata": {},
   "source": [
    "# 3 - The model "
   ]
  },
  {
   "cell_type": "markdown",
   "metadata": {},
   "source": [
    "Build a model that has : \n",
    "- three hidden layers\n",
    "- 5 neurons on the first hidden layer\n",
    "- 4 neurons on the second hidden layer\n",
    "- 3 neurons on the last hidden layer\n",
    "\n",
    "Note that here, the output layer is not represented.\n",
    "\n",
    "❓ Question ❓ Given the problem at hand, what is this output layer doing? "
   ]
  },
  {
   "cell_type": "code",
   "execution_count": null,
   "metadata": {},
   "outputs": [],
   "source": [
    "# YOUR ANSWER HERE"
   ]
  },
  {
   "cell_type": "markdown",
   "metadata": {},
   "source": [
    "# 4 - Run \n",
    "\n",
    "Now that you have defined your model, you can run (play arrow on the top left) to optimize the weights of your model in order to classify your data points.\n",
    "\n",
    "❓ Question ❓ What do you think about your results?"
   ]
  },
  {
   "cell_type": "code",
   "execution_count": null,
   "metadata": {},
   "outputs": [],
   "source": []
  },
  {
   "cell_type": "markdown",
   "metadata": {},
   "source": [
    "# 5 - Neural network in Keras\n",
    "\n",
    "Let's write (almost) the same model - at least the architecture - in Keras. It will corresponds to the following code."
   ]
  },
  {
   "cell_type": "code",
   "execution_count": null,
   "metadata": {},
   "outputs": [],
   "source": [
    "from tensorflow.keras import models\n",
    "from tensorflow.keras import layers\n",
    "\n",
    "model = models.Sequential()\n",
    "\n",
    "model.add(layers.Dense(5, input_dim=2)) # First hidden layer with 5 neurons\n",
    "model.add(layers.Dense(4)) # Second hidden layer with 4 neurons\n",
    "model.add(layers.Dense(3)) # Third hidden layer with 3 neurons\n",
    "\n",
    "model.add(layers.Dense(1, activation='sigmoid')) # Output layer that outputs a probability which is\n",
    "                                                 # necessary in the case of a 2 class classification problem\n",
    "\n",
    "# For now, let's skip the model.compile() and the model.fit()"
   ]
  },
  {
   "cell_type": "markdown",
   "metadata": {},
   "source": [
    "The `input_dim` of the first layer corresponds to the number of input features, which is 2 here, $X_1$ and $X_2$. It is mandatory for the first layer. The fact that you here define a `Sequential` model makes the following layer aware of the input size based on the output size of the previous layers"
   ]
  },
  {
   "cell_type": "markdown",
   "metadata": {},
   "source": [
    "# 6 - Change the dataset\n",
    "\n",
    "Here, you can change the dataset for the \"Exclusive Or\".\n",
    "\n",
    "❓ Question ❓ Find on the Playground a model with two hidden layers (the number of neurons per layer is for you to choose) that has a very small loss.\n",
    "\n",
    "❓ Question ❓ Once you have your model on Playground, write it with the Keras library"
   ]
  },
  {
   "cell_type": "code",
   "execution_count": null,
   "metadata": {},
   "outputs": [],
   "source": [
    "# YOUR CODE HERE"
   ]
  },
  {
   "cell_type": "markdown",
   "metadata": {},
   "source": [
    "❓ Question ❓ Repeat the same process with the two other datasets (Gaussian & Spiral). Once you have found a good network on Playground, write its Keras counterpart.\n",
    "\n",
    "Hint : You should be able to have a model that works on the Gaussian dataset with only one hidden layer\n",
    "\n",
    "N.B. : You can play with the noise in the data to see its effect on the results."
   ]
  },
  {
   "cell_type": "code",
   "execution_count": null,
   "metadata": {},
   "outputs": [],
   "source": [
    "# Gaussian dataset\n",
    "# YOUR CODE HERE"
   ]
  },
  {
   "cell_type": "code",
   "execution_count": null,
   "metadata": {},
   "outputs": [],
   "source": [
    "# Spiral dataset\n",
    "# YOUR CODE HERE"
   ]
  },
  {
   "cell_type": "markdown",
   "metadata": {},
   "source": [
    "# 7 - Activation Function\n",
    "\n",
    "Compared to the lecture, there is one slight difference : we haven't dealt with the activation function, which is the slight modification that is done to the output of each of the linear regression at each neuron.\n",
    "\n",
    "Click on this new link of the [Playground](https://playground.tensorflow.org/#activation=tanh&batchSize=10&dataset=spiral&regDataset=reg-plane&learningRate=0.03&regularizationRate=0&noise=0&networkShape=2&seed=0.23545&showTestData=false&discretize=false&percTrainData=70&x=true&y=true&xTimesY=false&xSquared=false&ySquared=false&cosX=false&sinX=false&cosY=false&sinY=false&collectStats=false&problem=classification&initZero=false&hideText=false&regularization_hide=true&showTestData_hide=false&stepButton_hide=false&activation_hide=false&problem_hide=false&batchSize_hide=true&dataset_hide=false&resetButton_hide=false&discretize_hide=false&playButton_hide=false&learningRate_hide=true&regularizationRate_hide=true&percTrainData_hide=false&numHiddenLayers_hide=false) that integrates the possibility to select the activation function.\n",
    "\n",
    "❓ Question ❓ With the spiral dataset, play with the activation function to see how it affects the outputs of the model.\n",
    "\n",
    "❗ **First Practice Rule** ❗ In general, choose the `relu` activation function! It appears to work better for many problems.\n",
    "\n",
    "The Playground allows you to select the only one activation function for **all** the hidden layers, which means all the neurons from all the hidden layers will have the same activation function.\n",
    "\n",
    "In Keras, you can choose one activation function per layer. It writes : "
   ]
  },
  {
   "cell_type": "code",
   "execution_count": null,
   "metadata": {},
   "outputs": [],
   "source": [
    "model = models.Sequential()\n",
    "\n",
    "model.add(layers.Dense(6, activation='relu', input_dim=2)) # First hidden layer with 6 neurons\n",
    "model.add(layers.Dense(5, activation='relu')) # Second hidden layer with 5 neurons\n",
    "model.add(layers.Dense(4, activation='relu')) # Third hidden layer with 4 neurons\n",
    "\n",
    "model.add(layers.Dense(1, activation='sigmoid'))"
   ]
  },
  {
   "cell_type": "markdown",
   "metadata": {},
   "source": [
    "❓ Question ❓ For the sake of practice, write a Keras model with three hidden layers. The first hidden layer has 10 neurons and a `tanh` (Hyperbolic tangent) as activation function. The second layer has 7 neurons and a `relu` activation function. \n",
    "\n",
    "As you have a two-class classification problem, the output layer is a dense layer with one output, and an activation function being `sigmoid` (to get a probability)."
   ]
  },
  {
   "cell_type": "code",
   "execution_count": null,
   "metadata": {},
   "outputs": [],
   "source": [
    "# YOUR CODE HERE"
   ]
  },
  {
   "cell_type": "markdown",
   "metadata": {},
   "source": [
    "# 8 - Regression\n",
    "\n",
    "Now, switch the problem type to a regression problem. \n",
    "\n",
    "On the one hand, you will have to choose the number of layers, number of neurons and activation functions of your model. On the other hand, the last layer is not of you to choose, it is dictated by the type of problem you have. Therefore, instead of \n",
    "\n",
    "`model.add(layers.Dense(1, activation='sigmoid'))`\n",
    "\n",
    "you need to have\n",
    "\n",
    "`model.add(layers.Dense(1, activation='linear'))`\n",
    "\n",
    "meaning that you output 1 final value which is between $ -\\infty$ and $+ \\infty$ \n",
    "\n",
    "- Advance note #1 (that we will see again later) : The last layer of a multiclass problem with 13 classes is \n",
    "\n",
    "`model.add(layers.Dense(13, activation='softmax'))`\n",
    "\n",
    "- Advance note #2 (that we will see again later) : The last layer of a regression problem with 7 outputs is \n",
    "\n",
    "`model.add(layers.Dense(7, activation='linear'))`\n",
    "\n",
    "\n",
    "❓ Question ❓ Find on Playground a neural network that works well in the case of regression data. Once you have found it, write its architecture in Keras : "
   ]
  },
  {
   "cell_type": "code",
   "execution_count": null,
   "metadata": {},
   "outputs": [],
   "source": [
    "# YOUR CODE HERE"
   ]
  },
  {
   "cell_type": "markdown",
   "metadata": {},
   "source": [
    "# 9 - Do not hesitate to play ...\n",
    "\n",
    "... with various datasets and architecture to grasp the ideas underlying Deep Learning\n",
    "\n",
    "### But do not worry if you didn't understand everything, you still have the entire week for that.\n",
    "\n",
    "__________________"
   ]
  },
  {
   "cell_type": "markdown",
   "metadata": {},
   "source": [
    "### You are now ready to do the same things with Keras directly !"
   ]
  },
  {
   "cell_type": "code",
   "execution_count": null,
   "metadata": {},
   "outputs": [],
   "source": []
  }
 ],
 "metadata": {
  "kernelspec": {
   "display_name": "Python 3",
   "language": "python",
   "name": "python3"
  },
  "language_info": {
   "codemirror_mode": {
    "name": "ipython",
    "version": 3
   },
   "file_extension": ".py",
   "mimetype": "text/x-python",
   "name": "python",
   "nbconvert_exporter": "python",
   "pygments_lexer": "ipython3",
   "version": "3.8.6"
  },
  "toc": {
   "base_numbering": 1,
   "nav_menu": {},
   "number_sections": false,
   "sideBar": true,
   "skip_h1_title": false,
   "title_cell": "Table of Contents",
   "title_sidebar": "Contents",
   "toc_cell": false,
   "toc_position": {},
   "toc_section_display": true,
   "toc_window_display": false
  }
 },
 "nbformat": 4,
 "nbformat_minor": 2
}
