{
 "cells": [
  {
   "cell_type": "markdown",
   "metadata": {},
   "source": [
    "# This last exercise is a real challenge.\n",
    "\n",
    "You are given real data, for which the goal is to set the neural network that has the best architecture to predict the problem at hand. This means that you should optimize the architecture of the Neural network (NN) : \n",
    "- number of layers\n",
    "- number of neurons \n",
    "- activation functions, ...\n",
    "\n",
    "\n",
    "This should be all done in a Cross-validation setting to make sure that you do not overfit one split of the testing data! "
   ]
  },
  {
   "cell_type": "markdown",
   "metadata": {},
   "source": [
    "The data you are given are from the abalone dataset (http://archive.ics.uci.edu/ml/datasets/Abalone)\n",
    "\n",
    "The abalone is a shell from which you are given multiple properties and you have to infer its age. \n",
    "1. Download the data directly from the website\n",
    "2. Split it into X and y\n",
    "3. Do one train/test split\n",
    "4. Find one suitable architecture, loss, optimizer, ...\n",
    "5. Once you have a full pipeline, evaluate it in a cross-validation procedure"
   ]
  },
  {
   "cell_type": "code",
   "execution_count": null,
   "metadata": {},
   "outputs": [],
   "source": []
  }
 ],
 "metadata": {
  "kernelspec": {
   "display_name": "Python 3",
   "language": "python",
   "name": "python3"
  },
  "language_info": {
   "codemirror_mode": {
    "name": "ipython",
    "version": 3
   },
   "file_extension": ".py",
   "mimetype": "text/x-python",
   "name": "python",
   "nbconvert_exporter": "python",
   "pygments_lexer": "ipython3",
   "version": "3.8.6"
  },
  "toc": {
   "base_numbering": 1,
   "nav_menu": {},
   "number_sections": false,
   "sideBar": true,
   "skip_h1_title": false,
   "title_cell": "Table of Contents",
   "title_sidebar": "Contents",
   "toc_cell": false,
   "toc_position": {},
   "toc_section_display": true,
   "toc_window_display": false
  }
 },
 "nbformat": 4,
 "nbformat_minor": 2
}
