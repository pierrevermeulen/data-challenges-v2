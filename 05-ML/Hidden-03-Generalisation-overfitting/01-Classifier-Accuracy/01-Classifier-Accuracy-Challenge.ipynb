{
 "cells": [
  {
   "cell_type": "markdown",
   "metadata": {},
   "source": [
    "# Classifier Accuracy\n",
    "\n",
    "<br>\n",
    "\n",
    "<figure>\n",
    "<img src=\"https://i.ibb.co/PjwJZD9/Screen-Shot-2019-09-28-at-15-19-47.png\" alt=\"Accuracy vs precision\" border=\"0\" width=\"50%\">\n",
    "  <figcaption style=\"text-align: center; color: #777; font-weight: bold\"><a href=\"https://en.wikipedia.org/wiki/Accuracy_and_precision\">Accuracy and precision - Wikipedia</a></figcaption>\n",
    "</figure>\n",
    "\n",
    "### Introduction\n",
    "\n",
    "In this exercice you are going to train a **kNN classifier** to differenciate **pro** from **amateur** basket-ball players. You will evaluate its **performance** and use it to predict new data.<br>\n",
    "\n",
    "**Dataset:** \"Basket_Ball_Players.csv\"<br>\n",
    "\n",
    "**Columns:** <br>\n",
    "**\"Height\"**, range [150, 220], height in centimeter <br>\n",
    "**\"3-Pointers\"**, range [0, 30], 3-Pointers done in one minutes <br>\n",
    "**\"Pro-Player\"**, range [0,1] <br>\n",
    "\n",
    "### Exercise questions:\n",
    "\n",
    "1. With **k=1** is Paul classified as a **Pro-Player**?\n",
    "2. What is the mean accuracy of our kNN with n=1?\n",
    "3. What is the weighted f1-score of our kNN with n=1?\n",
    "4. Fill-in the blanks."
   ]
  },
  {
   "cell_type": "markdown",
   "metadata": {},
   "source": [
    "## 1. Data exploration\n",
    "\n",
    "As usual before we start working on our model, let's explore our data."
   ]
  },
  {
   "cell_type": "code",
   "execution_count": 41,
   "metadata": {},
   "outputs": [],
   "source": [
    "# import Basket_Ball_Players.csv dataset"
   ]
  },
  {
   "cell_type": "code",
   "execution_count": 42,
   "metadata": {},
   "outputs": [],
   "source": [
    "# Look at the dataset info"
   ]
  },
  {
   "cell_type": "markdown",
   "metadata": {},
   "source": [
    "Create a scatterplot where we can see:\n",
    "\n",
    " - 3-pointers on the X-axis\n",
    " - player height on the Y-axis\n",
    " - color of the dot representing whether the player is pro or not\n",
    " \n",
    "You are free to use Seaborn or Matplotlib. Or both!"
   ]
  },
  {
   "cell_type": "code",
   "execution_count": 43,
   "metadata": {},
   "outputs": [],
   "source": [
    "# Seaborn"
   ]
  },
  {
   "cell_type": "code",
   "execution_count": 44,
   "metadata": {},
   "outputs": [],
   "source": [
    "# Matplotlib"
   ]
  },
  {
   "cell_type": "markdown",
   "metadata": {},
   "source": [
    "We should see a clear distinction between the pro and the amateur player."
   ]
  },
  {
   "cell_type": "markdown",
   "metadata": {},
   "source": [
    "## 2. Model building\n",
    "\n",
    "Let's train a **kNN model** to **predict** if a player is **pro** or an **amateur**. <br>\n",
    "\n",
    "The player we want to classify here is be called **Kobe**, here are his attributes: `{\"Height\": [209], \"3-Pointers\": [20]}`\n",
    "\n",
    "So, let's follow these steps:\n",
    "1. **Split** the data into **trainning** and **test** sets. [[ DOC ] - scikit-learn.train_test_split](https://scikit-learn.org/stable/modules/generated/sklearn.model_selection.train_test_split.html)\n",
    "2. **Train** the model with **k=1** and the **trainning data**. [[ DOC ] - scikit-learn.KNeighborgsClassifier](https://scikit-learn.org/stable/modules/generated/sklearn.neighbors.KNeighborsClassifier.html)\n",
    "3. **Classify** Paul."
   ]
  },
  {
   "cell_type": "code",
   "execution_count": 45,
   "metadata": {},
   "outputs": [],
   "source": [
    "#   Please use `test_size=0.33, random_state=42` as parameter of your train_test_split()"
   ]
  },
  {
   "cell_type": "code",
   "execution_count": null,
   "metadata": {},
   "outputs": [],
   "source": []
  },
  {
   "cell_type": "markdown",
   "metadata": {},
   "source": [
    "## 3. Prediction"
   ]
  },
  {
   "cell_type": "markdown",
   "metadata": {},
   "source": [
    "Use your model to predict whether Paul is classified as a Pro-Player."
   ]
  },
  {
   "cell_type": "code",
   "execution_count": null,
   "metadata": {},
   "outputs": [],
   "source": []
  },
  {
   "cell_type": "markdown",
   "metadata": {},
   "source": [
    "## 4. Model Accuracy\n",
    "\n",
    "Can we really trust this prediction? To answer that question, we need to check the accuracy of our model with our **test data**. Go ahead! [This](https://scikit-learn.org/stable/modules/generated/sklearn.neighbors.KNeighborsClassifier.html#sklearn.neighbors.KNeighborsClassifier.score) should help!"
   ]
  },
  {
   "cell_type": "code",
   "execution_count": null,
   "metadata": {},
   "outputs": [],
   "source": []
  },
  {
   "cell_type": "markdown",
   "metadata": {},
   "source": [
    "You can also use sklearn's `classification_report` [doc](https://scikit-learn.org/stable/modules/generated/sklearn.metrics.classification_report.html)  for a more detailed model performance analysis. Go ahead!"
   ]
  },
  {
   "cell_type": "code",
   "execution_count": null,
   "metadata": {},
   "outputs": [],
   "source": []
  },
  {
   "cell_type": "markdown",
   "metadata": {},
   "source": [
    "Don't panic, you have not been introduced to the different performance metrics you see on the report. You will dive into that Friday. That being said, you can start looking into them if you want!"
   ]
  }
 ],
 "metadata": {
  "kernelspec": {
   "display_name": "Python 3",
   "language": "python",
   "name": "python3"
  },
  "language_info": {
   "codemirror_mode": {
    "name": "ipython",
    "version": 3
   },
   "file_extension": ".py",
   "mimetype": "text/x-python",
   "name": "python",
   "nbconvert_exporter": "python",
   "pygments_lexer": "ipython3",
   "version": "3.6.9"
  }
 },
 "nbformat": 4,
 "nbformat_minor": 4
}
