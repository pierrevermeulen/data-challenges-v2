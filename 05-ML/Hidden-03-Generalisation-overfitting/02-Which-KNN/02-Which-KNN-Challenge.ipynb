{
 "cells": [
  {
   "cell_type": "markdown",
   "metadata": {},
   "source": [
    "# Which k for my kNN?\n",
    "\n",
    "<br>\n",
    "\n",
    "<figure>\n",
    "<img src=\"https://i.ibb.co/4g5h7m6/visualize-1255x420.png\" alt=\"visualize-1255x420\" border=\"0\" width=\"90%\">\n",
    "  <figcaption style=\"text-align: center; color: #777; font-weight: bold\">Binary classification with kNN - <a href=\"https://blog.eduonix.com/artificial-intelligence/everything-need-know-k-nearest-neighbors-algorithm/\">blog.eduonix.com</a></figcaption>\n",
    "</figure>\n",
    "\n",
    "### Introduction\n",
    "\n",
    "In this exercice we are going to find the **most accurate** **k** for a **kNN classifier**.<br>\n",
    "We are still trying to differenciate **pro** from **amateur** basket-ball players.\n",
    "\n",
    "**Dataset:** \"Basket_Ball_Players.csv\"<br>\n",
    "\n",
    "**Columns:** <br>\n",
    "**\"Height\"**, range [150, 220], height in centimeter <br>\n",
    "**\"3-Pointers\"**, range [0, 30], 3-Pointers done in one minutes <br>\n",
    "**\"Pro-Player\"**, range [0,1] <br>\n",
    "\n",
    "### Exercise questions:\n",
    "\n",
    "1. What is the **error rate** with **k=1**?\n",
    "2. Which **k** give us the best **accuracy**?\n",
    "3. What is the **accuracy** of the **best k**?\n",
    "4. With the best **k**, is Paul classified as a **Pro-Player**?"
   ]
  },
  {
   "cell_type": "markdown",
   "metadata": {},
   "source": [
    "## 1. Data exploration\n",
    "\n",
    "We are re-using the same dataset as the last exercise. Import it."
   ]
  },
  {
   "cell_type": "code",
   "execution_count": null,
   "metadata": {
    "scrolled": true
   },
   "outputs": [],
   "source": []
  },
  {
   "cell_type": "markdown",
   "metadata": {},
   "source": [
    "## 2. Mesure the error rate of multiple kNN\n",
    "\n",
    "In order to find the best k value for our kNN, you need to train multiple models with different k values.<br>\n",
    "For each model, you will take a note of the accuracy. You will then compare the models and select the best one.<br>\n",
    "\n",
    "The metrics we want to use here is the **error rate**, which is the sum of the errors.\n",
    "\n",
    "So, let's follow these steps:\n",
    "1. **Split** the data into **train** and **test** datasets. \n",
    "2. **Iterate** through k in range [1,50]<br>\n",
    "    a. train your model with k<br>\n",
    "    b. compute the error rate<br>\n",
    "    c. append the new error rate to the array with the error rates<br>\n",
    "    \n",
    "Go!"
   ]
  },
  {
   "cell_type": "code",
   "execution_count": 1,
   "metadata": {},
   "outputs": [],
   "source": [
    "#   Please use `test_size=0.33, random_state=42` as parameter of your train_test_split()"
   ]
  },
  {
   "cell_type": "markdown",
   "metadata": {},
   "source": [
    "## 3. Finding the optimal K with the elbow method\n",
    "\n",
    "1. **Plot** the **error rate** for each k\n",
    "2. **Select** the best candidates with the elbow method"
   ]
  },
  {
   "cell_type": "code",
   "execution_count": null,
   "metadata": {},
   "outputs": [],
   "source": []
  },
  {
   "cell_type": "markdown",
   "metadata": {},
   "source": [
    "Which k-value give you the best accuracy?"
   ]
  },
  {
   "cell_type": "code",
   "execution_count": null,
   "metadata": {},
   "outputs": [],
   "source": []
  },
  {
   "cell_type": "markdown",
   "metadata": {},
   "source": [
    "With the best k, is Paul still classified as a Pro-Player? Here are his attributes: `{\"Height\": [209], \"3-Pointers\": [20]}`"
   ]
  },
  {
   "cell_type": "code",
   "execution_count": null,
   "metadata": {},
   "outputs": [],
   "source": []
  }
 ],
 "metadata": {
  "kernelspec": {
   "display_name": "Python 3",
   "language": "python",
   "name": "python3"
  },
  "language_info": {
   "codemirror_mode": {
    "name": "ipython",
    "version": 3
   },
   "file_extension": ".py",
   "mimetype": "text/x-python",
   "name": "python",
   "nbconvert_exporter": "python",
   "pygments_lexer": "ipython3",
   "version": "3.6.9"
  }
 },
 "nbformat": 4,
 "nbformat_minor": 4
}
