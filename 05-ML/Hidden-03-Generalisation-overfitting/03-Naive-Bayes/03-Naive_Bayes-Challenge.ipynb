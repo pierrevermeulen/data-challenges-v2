{
 "cells": [
  {
   "cell_type": "markdown",
   "metadata": {},
   "source": [
    "# Naive Bayes\n",
    "\n",
    "### Introduction\n",
    "\n",
    "\n",
    "In this exercice, you are going to train your first Naive Bayes model! You will classify emails in a dataset into spam or not spam (ham). Naive Bayes is a particlarly powerful Machine Learning when it comes to classifying texts, hence the chosen dataset.\n",
    "\n",
    "The first step will be to load the emails, then we're gonna need to clean them a bit.\n",
    "\n",
    "**Dataset:** \"emails.csv\"<br>\n",
    "\n",
    "**Columns:** <br>\n",
    "**\"Text\"**, emails in raw text <br>\n",
    "**\"spam\"**, range range [0,1] <br>"
   ]
  },
  {
   "cell_type": "markdown",
   "metadata": {},
   "source": [
    "## 1. Load the data\n",
    "\n",
    "Load the csv file into a dataframe."
   ]
  },
  {
   "cell_type": "code",
   "execution_count": null,
   "metadata": {},
   "outputs": [],
   "source": []
  },
  {
   "cell_type": "markdown",
   "metadata": {},
   "source": [
    "## 2. Clean the emails\n",
    "\n",
    "This part is already done for you. It consists of cleaning the texts, removing strange characters, email addresses, punctuation, lowercasing. This is general practice when it comes to text preprocessing. Don't panic, you will be guided through it during the Natural Language Processing day. \n",
    "\n",
    "Run the code below and try make sense of it!"
   ]
  },
  {
   "cell_type": "code",
   "execution_count": 67,
   "metadata": {},
   "outputs": [
    {
     "data": {
      "text/html": [
       "<div>\n",
       "<style scoped>\n",
       "    .dataframe tbody tr th:only-of-type {\n",
       "        vertical-align: middle;\n",
       "    }\n",
       "\n",
       "    .dataframe tbody tr th {\n",
       "        vertical-align: top;\n",
       "    }\n",
       "\n",
       "    .dataframe thead th {\n",
       "        text-align: right;\n",
       "    }\n",
       "</style>\n",
       "<table border=\"1\" class=\"dataframe\">\n",
       "  <thead>\n",
       "    <tr style=\"text-align: right;\">\n",
       "      <th></th>\n",
       "      <th>text</th>\n",
       "      <th>spam</th>\n",
       "    </tr>\n",
       "  </thead>\n",
       "  <tbody>\n",
       "    <tr>\n",
       "      <th>0</th>\n",
       "      <td>subject naturally irresistible your corporate ...</td>\n",
       "      <td>1</td>\n",
       "    </tr>\n",
       "    <tr>\n",
       "      <th>1</th>\n",
       "      <td>subject the stock trading gunslinger  fanny is...</td>\n",
       "      <td>1</td>\n",
       "    </tr>\n",
       "    <tr>\n",
       "      <th>2</th>\n",
       "      <td>subject unbelievable new homes made easy  im w...</td>\n",
       "      <td>1</td>\n",
       "    </tr>\n",
       "    <tr>\n",
       "      <th>3</th>\n",
       "      <td>subject   color printing special  request addi...</td>\n",
       "      <td>1</td>\n",
       "    </tr>\n",
       "    <tr>\n",
       "      <th>4</th>\n",
       "      <td>subject do not have money  get software cds fr...</td>\n",
       "      <td>1</td>\n",
       "    </tr>\n",
       "  </tbody>\n",
       "</table>\n",
       "</div>"
      ],
      "text/plain": [
       "                                                text  spam\n",
       "0  subject naturally irresistible your corporate ...     1\n",
       "1  subject the stock trading gunslinger  fanny is...     1\n",
       "2  subject unbelievable new homes made easy  im w...     1\n",
       "3  subject   color printing special  request addi...     1\n",
       "4  subject do not have money  get software cds fr...     1"
      ]
     },
     "execution_count": 67,
     "metadata": {},
     "output_type": "execute_result"
    }
   ],
   "source": [
    "from string import punctuation\n",
    "import re\n",
    "\n",
    "def clean_email(email):    \n",
    "    \n",
    "    email = re.sub(r'http\\S+', ' ', email) # Remove email addresses\n",
    "    \n",
    "    email = re.sub(\"\\d+\", \" \", email) # Remove \"\\d\" pattern\n",
    "    \n",
    "    email = email.replace('\\n', ' ') # Remove \"\\n\" pattern\n",
    "    \n",
    "    email = email.translate(str.maketrans(\"\", \"\", punctuation)) # Remove punctuation\n",
    "    \n",
    "    email = email.lower() # Lowercase text\n",
    "    \n",
    "    return email\n",
    "\n",
    "df['text'] = df['text'].apply(clean_email)\n",
    "\n",
    "df.head()"
   ]
  },
  {
   "cell_type": "markdown",
   "metadata": {},
   "source": [
    "## 3. Class Balance"
   ]
  },
  {
   "cell_type": "markdown",
   "metadata": {},
   "source": [
    "Check for class balance. You are probably going to need to downsample..."
   ]
  },
  {
   "cell_type": "code",
   "execution_count": null,
   "metadata": {},
   "outputs": [],
   "source": []
  },
  {
   "cell_type": "markdown",
   "metadata": {},
   "source": [
    "## 4. Transforming (Vectorizing) text data\n",
    "\n",
    "Machine Learning algorithms don't take raw text as input. One way to transform text to a suitable numerical form is called Count Vectorizing.\n",
    "\n",
    "Count Vectorizing consists of creating a dictionary with all the words within the dataset, and representing every document with the number of occurences of each word.\n",
    "\n",
    "Let's say you have 3 texts you want to encode:\n",
    "\n",
    "x1 = 'name is Thomas'\\\n",
    "x2 = 'name is David'\\\n",
    "x3 = 'you have time today'\n",
    "\n",
    "The whole encoding would be \n",
    "\n",
    "| | name | is | Thomas | David | you | have | time | today |\n",
    "| --- | --- | --- | --- | --- | --- | --- | --- | --- |\n",
    "x1 | 1 | 1 | 1 | 0 | 0 | 0 | 0 | 0 |\n",
    "x2 | 1 | 1 | 0 | 1 | 0 | 0 | 0 | 0 |\n",
    "x3 | 0 | 0 | 0 | 0 | 1 | 1 | 1 | 1 |\n",
    "\n",
    "\n",
    "\n",
    "\n",
    "Don't panic, you don't need to hand code it! Use the utility class of sklearn `CountVectorizer` to vectorize the text.  [[doc]](https://scikit-learn.org/stable/modules/generated/sklearn.feature_extraction.text.CountVectorizer.html)"
   ]
  },
  {
   "cell_type": "code",
   "execution_count": null,
   "metadata": {},
   "outputs": [],
   "source": []
  },
  {
   "cell_type": "markdown",
   "metadata": {},
   "source": [
    "Calling `get_feature_names()` on your vectorizer gives you a dictionary of the words (= features) used for your representation of each email. Get the number of features you're working on."
   ]
  },
  {
   "cell_type": "code",
   "execution_count": null,
   "metadata": {},
   "outputs": [],
   "source": []
  },
  {
   "cell_type": "markdown",
   "metadata": {},
   "source": [
    "## 5. Train/test split"
   ]
  },
  {
   "cell_type": "markdown",
   "metadata": {},
   "source": [
    "Now that you have a vectorized representation of the emails, you can go ahead and split the dataset into testing / training sets."
   ]
  },
  {
   "cell_type": "code",
   "execution_count": null,
   "metadata": {},
   "outputs": [],
   "source": []
  },
  {
   "cell_type": "markdown",
   "metadata": {},
   "source": [
    "## 6. Train a Naive Bayes"
   ]
  },
  {
   "cell_type": "markdown",
   "metadata": {},
   "source": [
    "Time to train a Naive Bayes classifier!\n",
    "\n",
    "Go ahead, train the model and test its accuracy!\n",
    "\n",
    "Be careful to use the right Naive Bayes model (Multinomial or Gaussian?) and to correctly check its accuracy."
   ]
  },
  {
   "cell_type": "code",
   "execution_count": null,
   "metadata": {},
   "outputs": [],
   "source": []
  },
  {
   "cell_type": "markdown",
   "metadata": {},
   "source": [
    "## 7. Predicting"
   ]
  },
  {
   "cell_type": "markdown",
   "metadata": {},
   "source": [
    "You can now observe the quality of your classifier by predicting on new emails.\n",
    "\n",
    "Go ahead and predict the emails given below. Remember you need to vectorize the text (in the same exact way!) before feeding it to the model for prediction."
   ]
  },
  {
   "cell_type": "code",
   "execution_count": 1,
   "metadata": {},
   "outputs": [],
   "source": [
    "new_emails = [\"Hello George, how about a game of tennis tomorrow?\",\n",
    "              \"Hi David, are we going to the movies tonight?\",\n",
    "              \"Best holidays offers only here!!!\"]\n"
   ]
  },
  {
   "cell_type": "code",
   "execution_count": null,
   "metadata": {},
   "outputs": [],
   "source": []
  }
 ],
 "metadata": {
  "kernelspec": {
   "display_name": "Python 3",
   "language": "python",
   "name": "python3"
  },
  "language_info": {
   "codemirror_mode": {
    "name": "ipython",
    "version": 3
   },
   "file_extension": ".py",
   "mimetype": "text/x-python",
   "name": "python",
   "nbconvert_exporter": "python",
   "pygments_lexer": "ipython3",
   "version": "3.6.9"
  }
 },
 "nbformat": 4,
 "nbformat_minor": 4
}
