{
 "cells": [
  {
   "cell_type": "markdown",
   "metadata": {},
   "source": [
    "# Cross Validation "
   ]
  },
  {
   "cell_type": "markdown",
   "metadata": {},
   "source": [
    "## 1. Introduction"
   ]
  },
  {
   "cell_type": "markdown",
   "metadata": {},
   "source": [
    "In this exercise, we will dive into the whole machine learning development workflow. A common mistake (and we made it intentionnaly during the previous days) is to learn the parameters of a prediction function and testing it on the same data. What's wrong with that? We can’t fit the model to our training data and hope it would accurately work for the real data it has never seen before.\n",
    "\n",
    "To avoid that to happen, there are several techniques: we could remove a part of the training data and using it to get predictions from the model trained on rest of the data (= __Holdout Method__). But, by reducing the training data, we risk losing patterns in data set and increase the error. __K-Fold cross validation__ will help us to solve this problem.\n",
    "\n",
    "In K Fold cross validation, we  split our data into k separated \"folds\". Then, the Holdout Method is repeated k times, such as each time, one of the k folds will be the test subset and the (k-1) other folds will be used together as the training set.\n",
    "\n",
    "__Note__ that this method does not depend on the model. In this example, we will use it on a Linear Regression but you could use it on any methods you want (KNN, Logistic Regression,...).\n",
    "\n",
    "This following image schematize this algorithm.\n",
    "<img src=\"https://scikit-learn.org/stable/_images/grid_search_cross_validation.png\" style=\"width:50%;\">\n",
    "\n",
    "The general workflow to apply the Cross Validation is always the same:\n",
    "1. Instanciate the model from scikit-learn you want to use (LinearRegression for the today exercise);\n",
    "2. Instanciate the KFold class with the parameters you want;\n",
    "3. Use the cross_val_score() function to measure the performance of your model."
   ]
  },
  {
   "cell_type": "markdown",
   "metadata": {},
   "source": [
    "## 2. Data exploration"
   ]
  },
  {
   "cell_type": "markdown",
   "metadata": {},
   "source": [
    "In this section, we will analyse the sale price of houses in Iowa. We will try to predict the final sale price depending on different criterias. \n",
    "\n",
    "- read the data from the file \"saleprice_housing.txt\" (__do not forget__ to specify the delimiter as \"\\t\" for tabulation)\n",
    "- display the 5 first lines\n",
    "- Generate 3 diagrams (scatter plot) : \n",
    "    1. The first one represents the \"Garage Area\" on the X-axis and the \"SalePrice\" on the Y-axis\n",
    "    2. The second one represents the \"Gr Liv Area\" on the X-axis and the \"SalePrice\" on the Y-axis\n",
    "    3. And the last one is the \"Overall Cond\" on the X-axis and the \"SalePrice\" on the Y-axis"
   ]
  },
  {
   "cell_type": "code",
   "execution_count": null,
   "metadata": {},
   "outputs": [],
   "source": []
  },
  {
   "cell_type": "markdown",
   "metadata": {},
   "source": [
    "## 3. Linear Regression with Scikit-Learn"
   ]
  },
  {
   "cell_type": "markdown",
   "metadata": {},
   "source": [
    "- Use the LinearRegression() model from Scikit Learn with the column \"Gr Liv Area\" for the training and \"SalePrice\" for the target.\n",
    "- Plot the line on the corresponding graph.\n",
    "- What would be the price for a house with \"Gr Live Area\" equal to 2000?"
   ]
  },
  {
   "cell_type": "code",
   "execution_count": null,
   "metadata": {},
   "outputs": [],
   "source": []
  },
  {
   "cell_type": "markdown",
   "metadata": {},
   "source": [
    "## 4. Cross Validation with Scikit-Learn "
   ]
  },
  {
   "cell_type": "markdown",
   "metadata": {},
   "source": [
    "Well done, you made a prediction based on one feature. \n",
    "\n",
    "Now we will use a Cross Validation in order to measure the performance of your model.\n",
    "\n",
    "- Create your K-Fold class [[doc]](https://scikit-learn.org/stable/modules/generated/sklearn.model_selection.KFold.html) with the following parameters: \n",
    "    - 5 folds;\n",
    "    - shuffle = True;\n",
    "    - random_state = 1 (so we get the same values);\n",
    "    - assign this model to the variable `kf`."
   ]
  },
  {
   "cell_type": "code",
   "execution_count": null,
   "metadata": {},
   "outputs": [],
   "source": []
  },
  {
   "cell_type": "markdown",
   "metadata": {},
   "source": [
    "- Create a new instance of the class `LinearRegression` and assign it to the variable `lr`."
   ]
  },
  {
   "cell_type": "code",
   "execution_count": null,
   "metadata": {},
   "outputs": [],
   "source": []
  },
  {
   "cell_type": "markdown",
   "metadata": {},
   "source": [
    "- Use `cross_val_score()` [[doc]](https://scikit-learn.org/stable/modules/generated/sklearn.model_selection.cross_val_score.html) function to evaluate your K-folds: \n",
    "    - use the `LinearRegression` instance `lr` you just created;\n",
    "    - use the K-fold `kf` you initiated above\n",
    "    - use the column \"Gr Liv Area\" for the training and the column \"SalePrice\" for the target;\n",
    "    - use the scoring parameter with the value \"neg_mean_squared_error\";\n",
    "    - return an array with the MSE values (one for each fold);\n",
    "    - assign the result to the variable `mses`."
   ]
  },
  {
   "cell_type": "code",
   "execution_count": null,
   "metadata": {},
   "outputs": [],
   "source": []
  },
  {
   "cell_type": "markdown",
   "metadata": {},
   "source": [
    "- Compute the squared root of the absolute value of each mse and assign it to the variable `rmses`.\n",
    "- Compute the mean of the RMSEs and assign it to the variable `avg_rmses`.\n",
    "- Compute the standard deviation of the RMSEs and assign it to the variable `std_rmses`.\n",
    "- Print your results (`avg_rmses` and `std_rmses`)."
   ]
  },
  {
   "cell_type": "code",
   "execution_count": null,
   "metadata": {},
   "outputs": [],
   "source": []
  },
  {
   "cell_type": "markdown",
   "metadata": {},
   "source": [
    "## 5. Explore different values for K"
   ]
  },
  {
   "cell_type": "markdown",
   "metadata": {},
   "source": [
    "Well done! You just calculated the mean of your Root Mean Squared Error (RMSE) and its standard deviation. But what does that mean? To answer this question, let's compare the `avg_rmses` and `std_rmses` for differentt values of K (number of folds).\n",
    "\n",
    "- Using a For-Loop `for k in num_folds:`, compute the `avg_rmses` and `std_rmses` for each k in num_folds = [3, 5, 7, 9, 11, 13, 15, 17, 19, 21, 100, 1000].\n",
    "- For each iteration print the result with the following command : `print(str(k), \"folds: \", \"AVG RMSE: \", str(avg_rmses), \"STD RMSE: \", str(std_rmses))`.\n",
    "- __hint__: do no hesitate to copy paste from the previous exercise..."
   ]
  },
  {
   "cell_type": "code",
   "execution_count": null,
   "metadata": {},
   "outputs": [],
   "source": []
  },
  {
   "cell_type": "markdown",
   "metadata": {},
   "source": [
    "It seems that as k become bigger, the average RMSE decrease but the standard deviation increase. In an ideal world, we would like to have an avg_rmses and a std_rmses as small as possible. So, we have to choose a k that offers a good compromise between a small `avg_rmse` and a `small std_rmse`."
   ]
  },
  {
   "cell_type": "code",
   "execution_count": 6,
   "metadata": {},
   "outputs": [
    {
     "data": {
      "text/plain": [
       "[<matplotlib.lines.Line2D at 0x10f5b7f28>]"
      ]
     },
     "execution_count": 6,
     "metadata": {},
     "output_type": "execute_result"
    },
    {
     "data": {
      "image/png": "[encoded data removed]",
      "text/plain": [
       "<Figure size 432x288 with 1 Axes>"
      ]
     },
     "metadata": {
      "needs_background": "light"
     },
     "output_type": "display_data"
    }
   ],
   "source": [
    "plt.plot(num_folds, stock_std_rmses)\n",
    "plt.plot(num_folds, stock_avg_rmses)"
   ]
  },
  {
   "cell_type": "code",
   "execution_count": null,
   "metadata": {},
   "outputs": [],
   "source": []
  }
 ],
 "metadata": {
  "kernelspec": {
   "display_name": "Python 3",
   "language": "python",
   "name": "python3"
  },
  "language_info": {
   "codemirror_mode": {
    "name": "ipython",
    "version": 3
   },
   "file_extension": ".py",
   "mimetype": "text/x-python",
   "name": "python",
   "nbconvert_exporter": "python",
   "pygments_lexer": "ipython3",
   "version": "3.6.9"
  }
 },
 "nbformat": 4,
 "nbformat_minor": 4
}
