{
 "cells": [
  {
   "cell_type": "markdown",
   "metadata": {},
   "source": [
    "# Grid Search "
   ]
  },
  {
   "cell_type": "markdown",
   "metadata": {},
   "source": [
    "Grid Searching is the process of testing different parameter values for a model and selecting the ones that produce the best results. \n",
    "\n",
    "In this exercice, you will:\n",
    "- Load data\n",
    "- Make a parameter dictionary\n",
    "- Initiate a GridSearch algorithm\n",
    "- GridSearch your data\n",
    "- Print the results"
   ]
  },
  {
   "cell_type": "markdown",
   "metadata": {},
   "source": [
    "## Load Data "
   ]
  },
  {
   "cell_type": "markdown",
   "metadata": {},
   "source": [
    "Sklearn has a number of easy to use datasets [[doc]](https://scikit-learn.org/stable/modules/classes.html#module-sklearn.datasets).\n",
    "- Load the \"iris\" dataset\n",
    "- Extract the two first features of the dataset as \"X\"\n",
    "- Extract the target of the dataset as y"
   ]
  },
  {
   "cell_type": "code",
   "execution_count": null,
   "metadata": {},
   "outputs": [],
   "source": []
  },
  {
   "cell_type": "markdown",
   "metadata": {},
   "source": [
    "## Parameter Dictionary"
   ]
  },
  {
   "cell_type": "markdown",
   "metadata": {},
   "source": [
    "The parameter dictionary defines which values of the parameter will be tested during the Grid Search.\n",
    "\n",
    "Remember parameter 'C', the error function of an SVM? Make a dictionary to test for 'C': [0.1, 1, 10]"
   ]
  },
  {
   "cell_type": "code",
   "execution_count": null,
   "metadata": {},
   "outputs": [],
   "source": []
  },
  {
   "cell_type": "markdown",
   "metadata": {},
   "source": [
    "## Initiate and Fit Grid Search"
   ]
  },
  {
   "cell_type": "markdown",
   "metadata": {},
   "source": [
    "Sklearn's `GridSearchCV` [[doc]](https://scikit-learn.org/stable/modules/generated/sklearn.model_selection.GridSearchCV.html) trains multiple models for each parameter value, cross validates the results, and stores the best parameters. \n",
    "\n",
    "It takes as arguments the Machine Learning algorithm, the parameter dictionary, the number of cross validations to perform, and the scoring metrics.\n",
    "\n",
    "Initiate a gridsearch with the following arguments:\n",
    "- A default classification SVM\n",
    "- The above created parameter dictionary\n",
    "- 10-Fold Cross Validation\n",
    "- \"accuracy\" scoring metric\n",
    "\n",
    "Then, fit to data."
   ]
  },
  {
   "cell_type": "code",
   "execution_count": null,
   "metadata": {},
   "outputs": [],
   "source": []
  },
  {
   "cell_type": "markdown",
   "metadata": {},
   "source": [
    "## Print Results "
   ]
  },
  {
   "cell_type": "markdown",
   "metadata": {},
   "source": [
    "The results of the gridsearch can be unpacked.\n",
    "\n",
    "Unpack and print:\n",
    "- The best parameter value\n",
    "- The best classification accuracy"
   ]
  },
  {
   "cell_type": "code",
   "execution_count": null,
   "metadata": {},
   "outputs": [],
   "source": []
  },
  {
   "cell_type": "markdown",
   "metadata": {},
   "source": [
    "Below, unpack classification accuracy and standard deviation for each tested value of 'C'. They are stored in `cv_results_`"
   ]
  },
  {
   "cell_type": "code",
   "execution_count": null,
   "metadata": {},
   "outputs": [],
   "source": []
  },
  {
   "cell_type": "markdown",
   "metadata": {},
   "source": [
    "Parameter tuning is a key step of model building. Each Machine Learning algorithm has specific parameters that affect its performance. In the next section, you will explore SVM parameters Kernel and Gamma."
   ]
  }
 ],
 "metadata": {
  "kernelspec": {
   "display_name": "Python 3",
   "language": "python",
   "name": "python3"
  },
  "language_info": {
   "codemirror_mode": {
    "name": "ipython",
    "version": 3
   },
   "file_extension": ".py",
   "mimetype": "text/x-python",
   "name": "python",
   "nbconvert_exporter": "python",
   "pygments_lexer": "ipython3",
   "version": "3.6.9"
  }
 },
 "nbformat": 4,
 "nbformat_minor": 4
}
