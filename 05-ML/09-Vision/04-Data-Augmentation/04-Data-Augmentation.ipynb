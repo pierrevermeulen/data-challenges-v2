{
 "cells": [
  {
   "cell_type": "markdown",
   "metadata": {},
   "source": [
    "# 04 - Data Augmentation\n",
    "\n",
    "Machine learning algorithms need a lot of data. One way to increase the size of an image dataset is to perform data augmentation. The goal is to apply modifications on the raw images like rotation or rescaling and add the resulting images as they were new data samples. We will use `ImageDataGenerator` from the Keras library to do data augmentation.\n",
    "\n",
    "Be sure that you have Keras installed.\n"
   ]
  },
  {
   "cell_type": "code",
   "execution_count": 1,
   "metadata": {},
   "outputs": [
    {
     "name": "stderr",
     "output_type": "stream",
     "text": [
      "Using TensorFlow backend.\n"
     ]
    }
   ],
   "source": [
    "import numpy as np\n",
    "from keras.preprocessing.image import ImageDataGenerator\n",
    "\n",
    "import time"
   ]
  },
  {
   "cell_type": "markdown",
   "metadata": {},
   "source": [
    "## Single Image"
   ]
  },
  {
   "cell_type": "markdown",
   "metadata": {},
   "source": [
    "Use again the library `imageio` to load the image named `humming_bird.jpg`. Divide the values by 255 to rescale the image."
   ]
  },
  {
   "cell_type": "code",
   "execution_count": 2,
   "metadata": {},
   "outputs": [],
   "source": [
    "# Your code here\n"
   ]
  },
  {
   "cell_type": "markdown",
   "metadata": {},
   "source": [
    "### Width Shifts\n",
    "\n",
    "You will create new images from this image that are modified versions using `ImageDataGenerator`. To do that you will need to:\n",
    "\n",
    "- create an instance of `ImageDataGenerator` called `datagen`. You can choose the following parameters for the transformations: `width_shift_range=0.3` (0.3 is the proportion of the image size). The instance is called a generator, this is something you can iterate on to create batches of new images.\n",
    "\n",
    "- You will use the `flow` method to do the iterations. Just be careful: this will produce infinite loops, so find a way to stop it. For now, start by creating one new image.\n",
    "\n",
    "- Plot the resulting image to see how it is different from the original one.\n",
    "\n",
    "Try to do it several time to see that it creates a different image each time.\n",
    "\n",
    "Be careful, in the flow method, the input image should have a dimension 4: `(number of images, height, width, number of channels)`."
   ]
  },
  {
   "cell_type": "code",
   "execution_count": 5,
   "metadata": {},
   "outputs": [],
   "source": [
    "# Your code here\n"
   ]
  },
  {
   "cell_type": "markdown",
   "metadata": {},
   "source": [
    "### More Variety\n",
    "\n",
    "You should see that the new images are shifted with a random value.\n",
    "\n",
    "Now, to illustrate the variety of new images that we can create, you will try to use a new data generator using these parameters for instance:\n",
    "\n",
    "```python\n",
    "width_shift_range=0.3,\n",
    "height_shift_range=0.3,\n",
    "shear_range=0.3,\n",
    "zoom_range=0.3,\n",
    "horizontal_flip=True,\n",
    "fill_mode='nearest'\n",
    "```\n",
    "\n",
    "Here are few details about these parameters:\n",
    "\n",
    "- `rotation_range` is in degrees.\n",
    "- `width_shift_range` and `height_shift_range` is in proportion of the image size.\n",
    "- Shearing is a transformation that shifts part of the image in a direction and the other part in an opposite direction (https://docs.gimp.org/2.10/en/gimp-tool-shear.html).\n",
    "- `horizontal_flip` allows the generator to flip the image horizontally.\n",
    "- `fill_mode` accounts for new pixels that can be created in rotations for instance."
   ]
  },
  {
   "cell_type": "code",
   "execution_count": 9,
   "metadata": {},
   "outputs": [],
   "source": [
    "# Your code here\n"
   ]
  },
  {
   "cell_type": "markdown",
   "metadata": {},
   "source": [
    "Try to run your code multiple times to see the results."
   ]
  },
  {
   "cell_type": "markdown",
   "metadata": {},
   "source": [
    "**Question**: Try to explain to your buddy why and in what cases it can be useful to do these transformations."
   ]
  },
  {
   "cell_type": "markdown",
   "metadata": {},
   "source": [
    "## MNIST Fashion\n",
    "\n",
    "This time, you will try to apply data augmentation to the MNIST Fashion dataset and not to a single image. The idea is the same: you create a image generator with the parameters you want, you iterate with the `flow` method. You can use a `batch_size` of 60000 to have a new dataset with the same number of samples (that you will add to `X_train` to have a dataset with a size doubled).\n",
    "\n",
    "To get the corresponding label of the new images, you can do `for X_batch, y_batch in datagen.flow(`... and pass `X_train` and `y_train` as parameters.\n",
    "\n",
    "Usually, the documentation of Keras is great and there is a lot of content on the Internet, so feel free to have a look if you are stuck.\n",
    "\n",
    "Then, plot few examples corresponding to one class to check that it worked."
   ]
  },
  {
   "cell_type": "markdown",
   "metadata": {},
   "source": [
    "Now that you have a lot of new images (60,000 new images), try to concatenate them with `X_train` to create an augmented dataset `X_aug` (of shape `(120000, 28, 28, 1)`). You will also need to create the corresponding new variable `y_aug` with the right labels."
   ]
  },
  {
   "cell_type": "code",
   "execution_count": 22,
   "metadata": {},
   "outputs": [],
   "source": [
    "# Your code here\n"
   ]
  },
  {
   "cell_type": "markdown",
   "metadata": {},
   "source": [
    "Now that you have `X_aug` and `y_aug`, use them to train a new random forest model."
   ]
  },
  {
   "cell_type": "code",
   "execution_count": 39,
   "metadata": {},
   "outputs": [],
   "source": [
    "# Your code here\n"
   ]
  },
  {
   "cell_type": "markdown",
   "metadata": {},
   "source": [
    "Unfortunately, you should see that the accuracy is not good in comparison to the initial dataset (not augmented). This is because MNIST Fashion is very homogeneous between the train and the test sets. This means that the augmented dataset is quite different from the data used to test the algorithm. This shows that the machine learning algorithms we have used are sensitive to the rotation of the images. This is why the developments of deep learning algorithms for computer vision like the *convolutional neural networks* (CNN) are mostly used for computer vision.\n"
   ]
  }
 ],
 "metadata": {
  "kernelspec": {
   "display_name": "Python 3",
   "language": "python",
   "name": "python3"
  },
  "language_info": {
   "codemirror_mode": {
    "name": "ipython",
    "version": 3
   },
   "file_extension": ".py",
   "mimetype": "text/x-python",
   "name": "python",
   "nbconvert_exporter": "python",
   "pygments_lexer": "ipython3",
   "version": "3.7.2"
  },
  "toc": {
   "base_numbering": 1,
   "nav_menu": {},
   "number_sections": false,
   "sideBar": true,
   "skip_h1_title": false,
   "title_cell": "Table of Contents",
   "title_sidebar": "Contents",
   "toc_cell": false,
   "toc_position": {},
   "toc_section_display": true,
   "toc_window_display": false
  }
 },
 "nbformat": 4,
 "nbformat_minor": 2
}
