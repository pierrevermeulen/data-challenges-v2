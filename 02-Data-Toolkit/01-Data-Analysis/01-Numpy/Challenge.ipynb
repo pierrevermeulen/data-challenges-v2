{
 "cells": [
  {
   "cell_type": "markdown",
   "metadata": {},
   "source": [
    "# Numpy 101\n",
    "\n",
    "The goal of this challenge is to get familiar with the Numpy library, manipulate multidimensional arrays and apply some linear algebra operations without using `for` loops.\n",
    "\n",
    "💡 Do not forget to keep the [Numpy Cheat Sheet](https://s3.amazonaws.com/assets.datacamp.com/blog_assets/Numpy_Python_Cheat_Sheet.pdf) close during this challenge."
   ]
  },
  {
   "cell_type": "code",
   "execution_count": null,
   "metadata": {},
   "outputs": [],
   "source": [
    "import numpy as np # Run this cell!"
   ]
  },
  {
   "cell_type": "markdown",
   "metadata": {},
   "source": [
    "---\n",
    "\n",
    "**Q1** - Create a null vector (i.e. with only zeros `0`) of size 10. \n",
    "\n",
    "It should look like this:\n",
    "\n",
    "```\n",
    "array([0., 0., 0., 0., 0., 0., 0., 0., 0., 0.])\n",
    "```\n",
    "\n",
    "<details>\n",
    "    <summary>🆘 Hint</summary>\n",
    "    <p>Have a look at <a href=\"https://numpy.org/devdocs/reference/generated/numpy.zeros.html\"><code>numpy.zeros</code></a></p>\n",
    "</details>"
   ]
  },
  {
   "cell_type": "code",
   "execution_count": null,
   "metadata": {},
   "outputs": [],
   "source": []
  },
  {
   "cell_type": "markdown",
   "metadata": {},
   "source": [
    "---\n",
    "\n",
    "**Q2** - Create a vector with values from 5 to 10\n",
    "\n",
    "It should look like this:\n",
    "\n",
    "```\n",
    "array([ 5,  6,  7,  8,  9, 10])\n",
    "```\n",
    "\n",
    "<details>\n",
    "    <summary>🆘 Hint</summary>\n",
    "    <p>Have a look at <a href=\"https://numpy.org/devdocs/reference/generated/numpy.arange.html\"><code>numpy.arange</code></a></p>\n",
    "</details>"
   ]
  },
  {
   "cell_type": "code",
   "execution_count": null,
   "metadata": {},
   "outputs": [],
   "source": []
  },
  {
   "cell_type": "markdown",
   "metadata": {},
   "source": [
    "---\n",
    "\n",
    "**Q3** - Create the following matrix `A` as a NumPy `ndarray`:\n",
    "\n",
    "$\n",
    "A = \n",
    "\\begin{pmatrix}\n",
    "5 & 9 & 7\\\\\n",
    "1 & 0 & 3\n",
    "\\end{pmatrix}\n",
    "$\n"
   ]
  },
  {
   "cell_type": "code",
   "execution_count": null,
   "metadata": {},
   "outputs": [],
   "source": []
  },
  {
   "cell_type": "markdown",
   "metadata": {},
   "source": [
    "---\n",
    "**Q4** - Create the following matrix `B` without using `np.array()` constructor:\n",
    "\n",
    "$\n",
    "B = \n",
    "\\begin{pmatrix}\n",
    "1 & 1\\\\\n",
    "1 & 1\n",
    "\\end{pmatrix}\n",
    "$"
   ]
  },
  {
   "cell_type": "code",
   "execution_count": null,
   "metadata": {},
   "outputs": [],
   "source": []
  },
  {
   "cell_type": "markdown",
   "metadata": {},
   "source": [
    "---\n",
    "\n",
    "**Q5** - Create a vector of 20 elements evenly spaced between `-1` and `1`.\n",
    "\n",
    "It should look like this:\n",
    "\n",
    "```\n",
    "array([-1.        , -0.89473684, -0.78947368, -0.68421053, -0.57894737,\n",
    "       -0.47368421, -0.36842105, -0.26315789, -0.15789474, -0.05263158,\n",
    "        0.05263158,  0.15789474,  0.26315789,  0.36842105,  0.47368421,\n",
    "        0.57894737,  0.68421053,  0.78947368,  0.89473684,  1.        ])\n",
    "```\n",
    "\n",
    "<details>\n",
    "    <summary>🆘 Hint</summary>\n",
    "    <p>Have a look at <a href=\"https://numpy.org/devdocs/reference/generated/numpy.linspace.html\"><code>numpy.linspace</code></a></p>\n",
    "</details>"
   ]
  },
  {
   "cell_type": "code",
   "execution_count": null,
   "metadata": {},
   "outputs": [],
   "source": []
  },
  {
   "cell_type": "markdown",
   "metadata": {},
   "source": [
    "---\n",
    "\n",
    "**Q6** - Create a 3x3 identity matrix `C`:\n",
    "\n",
    "$\n",
    "C = \n",
    "\\begin{pmatrix}\n",
    "1 & 0 & 0\\\\\n",
    "0 & 1 & 0\\\\\n",
    "0 & 0 & 1\n",
    "\\end{pmatrix}\n",
    "$\n",
    "\n",
    "<br>\n",
    "\n",
    "<details>\n",
    "    <summary>🆘 Hint</summary>\n",
    "    <p>Have a look at <a href=\"https://numpy.org/devdocs/reference/generated/numpy.eye.html\"><code>numpy.eye</code></a></p>\n",
    "</details>"
   ]
  },
  {
   "cell_type": "code",
   "execution_count": null,
   "metadata": {},
   "outputs": [],
   "source": []
  },
  {
   "cell_type": "markdown",
   "metadata": {},
   "source": [
    "---\n",
    "\n",
    "**Q7** - Reshape the following `ndarray` `D` into a 2x3 matrix `E`:\n",
    "\n",
    "$\n",
    "D = \n",
    "\\begin{pmatrix}\n",
    "2 & 9 & 7 & 3 & 1 & 5\n",
    "\\end{pmatrix}\n",
    "$\n",
    "    \n",
    "$\n",
    "E = \n",
    "\\begin{pmatrix}\n",
    "2 & 9 & 7\\\\\n",
    "3 & 1 & 5\n",
    "\\end{pmatrix}\n",
    "$\n",
    "\n",
    "<br>\n",
    "\n",
    "<details>\n",
    "    <summary>🆘 Hint</summary>\n",
    "    <p>Have a look at <a href=\"https://numpy.org/devdocs/reference/generated/numpy.reshape.html\"><code>numpy.reshape</code></a></p>\n",
    "</details>"
   ]
  },
  {
   "cell_type": "code",
   "execution_count": null,
   "metadata": {},
   "outputs": [],
   "source": [
    "D = np.array([2, 9, 7, 3, 1, 5])\n",
    "E = ?\n",
    "E"
   ]
  },
  {
   "cell_type": "markdown",
   "metadata": {},
   "source": [
    "---\n",
    "\n",
    "**Q8** - Create a 8x8 checkboard matrix `F`:\n",
    "\n",
    "$\n",
    "F = \n",
    "\\begin{pmatrix}\n",
    "1 & 0 & 1 & 0 & 1 & 0 & 1 & 0\\\\\n",
    "0 & 1 & 0 & 1 & 0 & 1 & 0 & 1\\\\\n",
    "1 & 0 & 1 & 0 & 1 & 0 & 1 & 0\\\\\n",
    "0 & 1 & 0 & 1 & 0 & 1 & 0 & 1\\\\\n",
    "1 & 0 & 1 & 0 & 1 & 0 & 1 & 0\\\\\n",
    "0 & 1 & 0 & 1 & 0 & 1 & 0 & 1\\\\\n",
    "1 & 0 & 1 & 0 & 1 & 0 & 1 & 0\\\\\n",
    "0 & 1 & 0 & 1 & 0 & 1 & 0 & 1\\\\\n",
    "\\end{pmatrix}\n",
    "$\n",
    "\n",
    "<br>\n",
    "\n",
    "<details>\n",
    "    <summary>🆘 Hint</summary>\n",
    "    <p>Have a look at <a href=\"https://numpy.org/devdocs/reference/generated/numpy.tile.html\"><code>numpy.tile</code></a></p>\n",
    "</details>"
   ]
  },
  {
   "cell_type": "code",
   "execution_count": null,
   "metadata": {},
   "outputs": [],
   "source": []
  },
  {
   "cell_type": "markdown",
   "metadata": {},
   "source": [
    "---\n",
    "\n",
    "**Q9**: Select the second column of this `ndarray` `G` and reshape it as an `ndarray` of 4 lines and 1 column:\n",
    "\n",
    "```\n",
    "array([[0.?],\n",
    "       [0.?],\n",
    "       [0.?],\n",
    "       [0.?]])\n",
    "```"
   ]
  },
  {
   "cell_type": "code",
   "execution_count": null,
   "metadata": {},
   "outputs": [],
   "source": [
    "G = np.random.random((4, 5))\n",
    "print(G)"
   ]
  },
  {
   "cell_type": "code",
   "execution_count": null,
   "metadata": {},
   "outputs": [],
   "source": []
  },
  {
   "cell_type": "markdown",
   "metadata": {},
   "source": [
    "---\n",
    "\n",
    "**Q10** - Compute the sum of matrixes `G` and `H`:\n",
    "\n",
    "$\n",
    "G = \n",
    "\\begin{pmatrix}\n",
    "0 & 4\\\\\n",
    "-4 & -3\\\\\n",
    "1 & 1\n",
    "\\end{pmatrix}\n",
    "$\n",
    "\n",
    "$\n",
    "H =\n",
    "\\begin{pmatrix}\n",
    "0 & 1\\\\\n",
    "1 & -1\\\\\n",
    "2 & 3\n",
    "\\end{pmatrix}\n",
    "$\n",
    "\n",
    "$\n",
    "G + H = ?\n",
    "$\n"
   ]
  },
  {
   "cell_type": "code",
   "execution_count": null,
   "metadata": {},
   "outputs": [],
   "source": []
  },
  {
   "cell_type": "markdown",
   "metadata": {},
   "source": [
    "---\n",
    "\n",
    "All good! Don't forget to **save** this Notebook (File > Save and Checkpoint or `Cmd`/`Ctrl` + `S`) and then `add / commit / push` it with the Terminal."
   ]
  }
 ],
 "metadata": {
  "kernelspec": {
   "display_name": "Python 3",
   "language": "python",
   "name": "python3"
  },
  "language_info": {
   "codemirror_mode": {
    "name": "ipython",
    "version": 3
   },
   "file_extension": ".py",
   "mimetype": "text/x-python",
   "name": "python",
   "nbconvert_exporter": "python",
   "pygments_lexer": "ipython3",
   "version": "3.7.6"
  },
  "varInspector": {
   "cols": {
    "lenName": 16,
    "lenType": 16,
    "lenVar": 40
   },
   "kernels_config": {
    "python": {
     "delete_cmd_postfix": "",
     "delete_cmd_prefix": "del ",
     "library": "var_list.py",
     "varRefreshCmd": "print(var_dic_list())"
    },
    "r": {
     "delete_cmd_postfix": ") ",
     "delete_cmd_prefix": "rm(",
     "library": "var_list.r",
     "varRefreshCmd": "cat(var_dic_list()) "
    }
   },
   "types_to_exclude": [
    "module",
    "function",
    "builtin_function_or_method",
    "instance",
    "_Feature"
   ],
   "window_display": false
  }
 },
 "nbformat": 4,
 "nbformat_minor": 4
}
