{
 "cells": [
  {
   "cell_type": "markdown",
   "metadata": {},
   "source": [
    "# Reboot - Python Basics\n",
    "\n",
    "This is a set of small independent assignments to recap the concepts of the day.\n",
    "\n",
    "## 1. Variables\n",
    "\n",
    "Create a `country` variable and assign your favorite country to it. Print it"
   ]
  },
  {
   "cell_type": "code",
   "execution_count": null,
   "metadata": {},
   "outputs": [],
   "source": []
  },
  {
   "cell_type": "markdown",
   "metadata": {},
   "source": [
    "Create an `animal` variable and assign your favorite animal to it. Print it"
   ]
  },
  {
   "cell_type": "code",
   "execution_count": null,
   "metadata": {},
   "outputs": [],
   "source": []
  },
  {
   "cell_type": "markdown",
   "metadata": {},
   "source": [
    "Create an `animal_count` variable with any positive integer in it. Print it"
   ]
  },
  {
   "cell_type": "code",
   "execution_count": null,
   "metadata": {},
   "outputs": [],
   "source": []
  },
  {
   "cell_type": "markdown",
   "metadata": {},
   "source": [
    "Print out a string using all your variables that follows this format:\n",
    "`\"I just ordered 200 monkeys from Denmark\"`\n",
    "\n",
    "**Hint**: use interpolation"
   ]
  },
  {
   "cell_type": "code",
   "execution_count": null,
   "metadata": {},
   "outputs": [],
   "source": []
  },
  {
   "cell_type": "markdown",
   "metadata": {},
   "source": [
    "---\n",
    "## 2. Data Types\n",
    "Now it's time to talk about data types. The first question to ask yourself before starting any coding task, is to determine which data types you're working with.\n",
    "\n",
    "Run the following cells and pay attention to the variables initialized:"
   ]
  },
  {
   "cell_type": "code",
   "execution_count": null,
   "metadata": {},
   "outputs": [],
   "source": [
    "pi = 3.14\n",
    "food = 'pizza'\n",
    "colors = ['red', 'blue', 'yellow']\n",
    "print(\"Variables are now defined!\")"
   ]
  },
  {
   "cell_type": "markdown",
   "metadata": {},
   "source": [
    "Look at the following code. Replace the `?` with the correct data type each time (`str`, `float`, `list`). \n",
    "\n",
    "The cell should display `True` when you put in the right datatypes."
   ]
  },
  {
   "cell_type": "code",
   "execution_count": null,
   "metadata": {},
   "outputs": [],
   "source": [
    "type(pi) == ? \\\n",
    "and type(food) == ? \\\n",
    "and type(colors) == ?"
   ]
  },
  {
   "cell_type": "markdown",
   "metadata": {},
   "source": [
    "Let's try to work with other datatypes. This time there's no hint."
   ]
  },
  {
   "cell_type": "code",
   "execution_count": null,
   "metadata": {},
   "outputs": [],
   "source": [
    "user_profile = {'email': 'buffy@gmail.com', 'age': 19, 'password': 'hunter2', 'profession': 'Vampire Slayer' }\n",
    "shapes = ('square', 'round', 'hexagonic')\n",
    "age = 25\n",
    "age_valid = age < 18\n",
    "print(\"Variables are now defined!\")"
   ]
  },
  {
   "cell_type": "markdown",
   "metadata": {},
   "source": [
    "Let's repeat the excercise from before with the new variables. Once again, the cell should display `True` when you're done."
   ]
  },
  {
   "cell_type": "code",
   "execution_count": null,
   "metadata": {},
   "outputs": [],
   "source": [
    "type(shapes) == ? \\\n",
    "and type(user_profile) == ? \\\n",
    "and type(age_valid) == ?"
   ]
  },
  {
   "cell_type": "markdown",
   "metadata": {},
   "source": [
    "---\n",
    "\n",
    "## 3. Functions\n",
    "\n",
    "Create a fuction `credit_card_industry` which takes one parameter (a `str` storing a credit card number like `\"4242 4242 4242 4242\"` for instance) and **return** one of the following industry:\n",
    "\n",
    "- Airline\n",
    "- Visa\n",
    "- Mastercard\n",
    "- Other\n",
    "\n",
    "This [article](https://www.thebalance.com/what-do-the-numbers-on-your-credit-card-mean-4588401) will prove handy if you don't know how to determine this from the number."
   ]
  },
  {
   "cell_type": "code",
   "execution_count": null,
   "metadata": {},
   "outputs": [],
   "source": []
  },
  {
   "cell_type": "markdown",
   "metadata": {},
   "source": [
    "Call this function and **print** the result for the following card numbers:\n",
    "\n",
    "- `\"4539 0132 4843 4768\"`\n",
    "- `\"5131 9376 6800 4058\"`\n",
    "- `\"3762 8789 1971 1060\"`\n",
    "- `\"1002 0494 8191 1719\"`"
   ]
  },
  {
   "cell_type": "code",
   "execution_count": null,
   "metadata": {},
   "outputs": [],
   "source": []
  },
  {
   "cell_type": "markdown",
   "metadata": {},
   "source": [
    "---\n",
    "## 4. Lists\n",
    "\n",
    "Create a `genres` variable with a list of 3 different movie genres as strings. Print the list."
   ]
  },
  {
   "cell_type": "code",
   "execution_count": null,
   "metadata": {},
   "outputs": [],
   "source": []
  },
  {
   "cell_type": "markdown",
   "metadata": {},
   "source": [
    "Add another genre to the list. Print the whole list."
   ]
  },
  {
   "cell_type": "code",
   "execution_count": null,
   "metadata": {},
   "outputs": [],
   "source": []
  },
  {
   "cell_type": "markdown",
   "metadata": {},
   "source": [
    "Change the name of the second genre on the list. Print the whole list"
   ]
  },
  {
   "cell_type": "code",
   "execution_count": null,
   "metadata": {},
   "outputs": [],
   "source": []
  },
  {
   "cell_type": "markdown",
   "metadata": {},
   "source": [
    "Print each genre (sorted) to the terminal following this format (use a for loop with enumerate):\n",
    "\n",
    "```\n",
    "1 - Action\n",
    "2 - Comedy\n",
    "3 - Drama\n",
    "4 - Thriller\n",
    "```"
   ]
  },
  {
   "cell_type": "code",
   "execution_count": null,
   "metadata": {},
   "outputs": [],
   "source": []
  },
  {
   "cell_type": "markdown",
   "metadata": {},
   "source": [
    "---\n",
    "## 5. Dictionaries\n",
    "\n",
    "Create a `movie` variable with a dictionary containing information about any movie. It should contain the keys `year` and `title`with appropriate values. You can get some inspiration on [IMDB](https://www.imdb.com/search/title/?count=100&groups=top_1000&sort=user_rating)"
   ]
  },
  {
   "cell_type": "code",
   "execution_count": null,
   "metadata": {},
   "outputs": [],
   "source": []
  },
  {
   "cell_type": "markdown",
   "metadata": {},
   "source": [
    "Add a `director` key to the dictonary with the appropriate value. Print the `movie` dictionary"
   ]
  },
  {
   "cell_type": "code",
   "execution_count": null,
   "metadata": {},
   "outputs": [],
   "source": []
  },
  {
   "cell_type": "markdown",
   "metadata": {},
   "source": [
    "Create a `movies` variable and initialize it with an empty list."
   ]
  },
  {
   "cell_type": "code",
   "execution_count": null,
   "metadata": {},
   "outputs": [],
   "source": []
  },
  {
   "cell_type": "markdown",
   "metadata": {},
   "source": [
    "Add your `movie` to the list and two more movies, with the same keys as the first one. Then print the entire list"
   ]
  },
  {
   "cell_type": "code",
   "execution_count": null,
   "metadata": {},
   "outputs": [],
   "source": []
  },
  {
   "cell_type": "markdown",
   "metadata": {},
   "source": [
    "Finally, print the `movies` list line by line in the terminal in the following format (using a `for` loop):\n",
    "```\n",
    "Terminator by James Cameron was released in 1984\n",
    "Godfather by Francis Ford Coppolla was released in 1972\n",
    "The Matrix by The Wachowski Brothers was released in 1999\n",
    "```"
   ]
  },
  {
   "cell_type": "code",
   "execution_count": null,
   "metadata": {},
   "outputs": [],
   "source": []
  },
  {
   "cell_type": "markdown",
   "metadata": {},
   "source": [
    "---\n",
    "## 6. Dictionaries + Lists\n",
    "\n",
    "Often when we're dealing with data, we have to find our way around a big dictionary. This can be a bit intimidating at first. But have no fear, once you get the hang of it, it's quite comfortable to navigate. When we're dealing with bigger dictionaries, it's important to take the time and read through it, knowing what kind of data types are stored and what structure it has. \n",
    "\n",
    "It's often a small subset of the information we're interested in looking at, so we need to know how to precisely get it. Start by running the cell below:"
   ]
  },
  {
   "cell_type": "code",
   "execution_count": null,
   "metadata": {},
   "outputs": [],
   "source": [
    "movie = {\n",
    "    'title': { 'en': 'The Dark Knight', 'fr': 'Le Chevalier Noir' },\n",
    "    'year': 2008,\n",
    "    'director': 'Christopher Nolan',\n",
    "    'rating': 'PG-13',\n",
    "    'plot': {\n",
    "        'en': 'The Batman is out for blood',\n",
    "        'fr': 'Batman est de retour, plus vénère que jamais'\n",
    "    },\n",
    "    'box office USD': {'USA': 535_234_033, 'rest_of_world': 469_700_000 },\n",
    "    'actors': {\n",
    "        'lead': ['Christian Bale', 'Heath Ledger'],\n",
    "        'support': ['Aaron Eckhardt', 'Morgan Freeman', 'Gary Oldman', 'Maggie Gyllenhaal' ]\n",
    "    }\n",
    "}\n",
    "print(\"movie is defined!\")"
   ]
  },
  {
   "cell_type": "markdown",
   "metadata": {},
   "source": [
    "Try to guess the answer to the questions without writing any code. Then try the code out for yourself to test your theory.\n",
    "\n",
    "What does `movie['title']['fr']` return? "
   ]
  },
  {
   "cell_type": "code",
   "execution_count": null,
   "metadata": {},
   "outputs": [],
   "source": []
  },
  {
   "cell_type": "markdown",
   "metadata": {},
   "source": [
    "What does `movie['title']['es']` return?"
   ]
  },
  {
   "cell_type": "code",
   "execution_count": null,
   "metadata": {},
   "outputs": [],
   "source": []
  },
  {
   "cell_type": "markdown",
   "metadata": {},
   "source": [
    "What does `movie['actors']['support'][2]` return?"
   ]
  },
  {
   "cell_type": "code",
   "execution_count": null,
   "metadata": {},
   "outputs": [],
   "source": []
  },
  {
   "cell_type": "markdown",
   "metadata": {},
   "source": [
    "### Optional \n",
    "\n",
    "Find a way to extract one list containing all the actors from the movie."
   ]
  },
  {
   "cell_type": "code",
   "execution_count": null,
   "metadata": {},
   "outputs": [],
   "source": []
  },
  {
   "cell_type": "markdown",
   "metadata": {},
   "source": [
    "Try to calculate the total box office of the movie from `movie`"
   ]
  },
  {
   "cell_type": "code",
   "execution_count": null,
   "metadata": {},
   "outputs": [],
   "source": []
  },
  {
   "cell_type": "markdown",
   "metadata": {},
   "source": [
    "Would the code above still work with the following Box Office. How would you compute the total Box Office using a `for` loop?"
   ]
  },
  {
   "cell_type": "code",
   "execution_count": null,
   "metadata": {},
   "outputs": [],
   "source": [
    "box_office = {\"US\": 200_000_000, \"EU\": 85_000_000, \"China\": 110_000_000}\n",
    "print(box_office)"
   ]
  },
  {
   "cell_type": "code",
   "execution_count": null,
   "metadata": {},
   "outputs": [],
   "source": []
  }
 ],
 "metadata": {
  "kernelspec": {
   "display_name": "Python 3",
   "language": "python",
   "name": "python3"
  },
  "language_info": {
   "codemirror_mode": {
    "name": "ipython",
    "version": 3
   },
   "file_extension": ".py",
   "mimetype": "text/x-python",
   "name": "python",
   "nbconvert_exporter": "python",
   "pygments_lexer": "ipython3",
   "version": "3.7.7"
  }
 },
 "nbformat": 4,
 "nbformat_minor": 2
}
