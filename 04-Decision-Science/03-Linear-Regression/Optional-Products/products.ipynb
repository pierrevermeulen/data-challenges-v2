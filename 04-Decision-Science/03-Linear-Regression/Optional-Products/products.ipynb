{
 "cells": [
  {
   "cell_type": "markdown",
   "metadata": {},
   "source": [
    "# Products"
   ]
  },
  {
   "cell_type": "markdown",
   "metadata": {},
   "source": [
    "Our goal is to find products **categories** that repetively underperform others, and understand why"
   ]
  },
  {
   "cell_type": "markdown",
   "metadata": {},
   "source": [
    "## 0 - `product.py` "
   ]
  },
  {
   "cell_type": "markdown",
   "metadata": {},
   "source": [
    "We have given you the solution to `product.py` in your challenge's folder\n",
    "👉 Copy-paste it to your local olist/product.py folder"
   ]
  },
  {
   "cell_type": "markdown",
   "metadata": {},
   "source": [
    "It provides aggregates at `product_id` level of the various orders that have taken place with Olist"
   ]
  },
  {
   "cell_type": "markdown",
   "metadata": {},
   "source": [
    "`get_training_data` method in `olist/product.py` returns the following DataFrame:\n",
    "\n",
    "  - `product_id` (_str_) _the id of the product_ **UNIQUE**\n",
    "  - `category` (_str_) _the category name (in english)_\n",
    "  - `height` (_float_) _height of the product (in cm)_\n",
    "  - `width` (_float_) _width of the product (in cm)_\n",
    "  - `length` (_float_) _length of the product (in cm)_\n",
    "  - `weight` (_float_) _weight of the product (in g)_\n",
    "  - `price` (_float_) _average price at which the product is sold_\n",
    "  - `freight_value` (_float_) _average value of freight_\n",
    "  - `product_name_length` (_float_) _character length of product name_\n",
    "  - `product_description_length` (_float_) _character length of product description_\n",
    "  - `n_orders` (_int_) _the number of orders in which the product appeared_\n",
    "  - `quantity` (_int_) _the total number of product sold_\n",
    "  - `wait_time` (_float_) _the average wait time in days for orders in which the product was sold._\n",
    "  - `share_of_five_stars` (_float_) _The share of five stars orders for orders in which the product was sold_\n",
    "  - `share_of_one_stars` (_float_) _The share of one stars orders for orders in which the product was sold_\n",
    "  - `review_score` (_float_) _The average review score of the order in which each product is sold_"
   ]
  },
  {
   "cell_type": "markdown",
   "metadata": {},
   "source": [
    "## 1 - Analysis per product_id"
   ]
  },
  {
   "cell_type": "code",
   "execution_count": null,
   "metadata": {
    "scrolled": true
   },
   "outputs": [],
   "source": [
    "%load_ext autoreload\n",
    "%autoreload 2\n",
    "\n",
    "import numpy as np\n",
    "import pandas as pd\n",
    "import seaborn as sns\n",
    "import matplotlib.pyplot as plt\n",
    "import statsmodels.formula.api as smf"
   ]
  },
  {
   "cell_type": "markdown",
   "metadata": {},
   "source": [
    "❓ Inspect the new `Product().get_training_data()` dataframe, for instance by plotting histograms of each variables using `plt.hist()`. "
   ]
  },
  {
   "cell_type": "code",
   "execution_count": null,
   "metadata": {},
   "outputs": [],
   "source": [
    "from olist.product import Product\n",
    "products = Product().get_training_data()"
   ]
  },
  {
   "cell_type": "code",
   "execution_count": null,
   "metadata": {},
   "outputs": [],
   "source": [
    "# Your code"
   ]
  },
  {
   "cell_type": "markdown",
   "metadata": {},
   "source": [
    "❓ Model review_score by an OLS with the continuous feature of your choice, and conclude about R-square and important features"
   ]
  },
  {
   "cell_type": "markdown",
   "metadata": {},
   "source": [
    "## 2 - Aggregation per product categories"
   ]
  },
  {
   "cell_type": "markdown",
   "metadata": {},
   "source": [
    "### 2.1 - Build aggregated dataframe"
   ]
  },
  {
   "cell_type": "markdown",
   "metadata": {},
   "source": [
    "❓ Create a DataFrame `product_cat` aggregating, for each product category, all the products properties.  \n",
    "Use sum for `quantity` and the aggregation function of your choice for all other properties. For instance:\n",
    "\n",
    "  - `quantity` (sum)\n",
    "  - `wait_time` (median)\n",
    "  - `review_score` (median)\n",
    "  - `price` (median)\n",
    "  - ...."
   ]
  },
  {
   "cell_type": "markdown",
   "metadata": {},
   "source": [
    "### 2.2 - Exploration"
   ]
  },
  {
   "cell_type": "markdown",
   "metadata": {},
   "source": [
    "❓ What are the best performing product categories?"
   ]
  },
  {
   "cell_type": "code",
   "execution_count": null,
   "metadata": {
    "scrolled": true
   },
   "outputs": [],
   "source": [
    "# Your code"
   ]
  },
  {
   "cell_type": "markdown",
   "metadata": {},
   "source": []
  },
  {
   "cell_type": "markdown",
   "metadata": {},
   "source": [
    "❓ Let's try to understand _why_ some categories are performing better than the others. \n",
    "\n",
    "Using plotly, create different scatterplots, varying `x`, `y`, `color` and `size`, to finds clues about factors impacting the \"review_score\". \n",
    "\n",
    "- Do you notice underperforming product categories?\n",
    "- Can you think of a strategy to improve Olist's profit margin as per CEO request?\n",
    "\n",
    "<details>\n",
    "    <summary>Hints</summary>\n",
    "\n",
    "Try plotting `product_length_cm` against `wait_time`, with color = `review_score`, and bubble size = \"sales\" for instance\n",
    "</details>"
   ]
  },
  {
   "cell_type": "code",
   "execution_count": 112,
   "metadata": {},
   "outputs": [],
   "source": [
    "# YOUR CODE BELOW\n",
    "import plotly.express as px"
   ]
  },
  {
   "cell_type": "markdown",
   "metadata": {},
   "source": [
    "### 2.3 - Causal inference"
   ]
  },
  {
   "cell_type": "markdown",
   "metadata": {},
   "source": [
    "☝️ It seems that large products like Furniture, which also happend to takes longer to deliver, are performing worse than the others. Are consumer disappointed about the product itself, or by the slow delivery time?"
   ]
  },
  {
   "cell_type": "markdown",
   "metadata": {},
   "source": [
    "❓ To answer that, run an OLS to model `review_score` so as to isolate the true contribution of each product category on customer satisfaction, by holding `wait_time` constant? \n",
    "\n",
    "- Which dataset should you use for this regression? `product_cat` or the entire `products` training dataset?\n",
    "\n",
    "- Which regressors / independent variables / features should you use? \n",
    "\n",
    "Investigate the results: Which product categories correlate with higher review_score holding wait_time constant?\n",
    "\n",
    "Feel free to use `return_significative_coef(model)` coded for you in `olist/utils.py`"
   ]
  },
  {
   "cell_type": "code",
   "execution_count": null,
   "metadata": {},
   "outputs": [],
   "source": [
    "# Your code"
   ]
  },
  {
   "cell_type": "markdown",
   "metadata": {},
   "source": [
    "☝️ Furniture is not anymore in the list of signigicant coefficients. The problem may have come from delivery rather than the product itself! On the contrary, books are regularly driving higher reviews, even after accounting for generally quicker delivery time. "
   ]
  },
  {
   "cell_type": "markdown",
   "metadata": {},
   "source": [
    "🏁 **Congratulation with this final challenge! Don't forget to commit and push your analysis**"
   ]
  }
 ],
 "metadata": {
  "kernelspec": {
   "display_name": "Python 3",
   "language": "python",
   "name": "python3"
  },
  "language_info": {
   "codemirror_mode": {
    "name": "ipython",
    "version": 3
   },
   "file_extension": ".py",
   "mimetype": "text/x-python",
   "name": "python",
   "nbconvert_exporter": "python",
   "pygments_lexer": "ipython3",
   "version": "3.8.5"
  },
  "toc": {
   "base_numbering": 1,
   "nav_menu": {},
   "number_sections": false,
   "sideBar": true,
   "skip_h1_title": false,
   "title_cell": "Table of Contents",
   "title_sidebar": "Contents",
   "toc_cell": false,
   "toc_position": {},
   "toc_section_display": true,
   "toc_window_display": true
  },
  "varInspector": {
   "cols": {
    "lenName": 16,
    "lenType": 16,
    "lenVar": 40
   },
   "kernels_config": {
    "python": {
     "delete_cmd_postfix": "",
     "delete_cmd_prefix": "del ",
     "library": "var_list.py",
     "varRefreshCmd": "print(var_dic_list())"
    },
    "r": {
     "delete_cmd_postfix": ") ",
     "delete_cmd_prefix": "rm(",
     "library": "var_list.r",
     "varRefreshCmd": "cat(var_dic_list()) "
    }
   },
   "types_to_exclude": [
    "module",
    "function",
    "builtin_function_or_method",
    "instance",
    "_Feature"
   ],
   "window_display": false
  }
 },
 "nbformat": 4,
 "nbformat_minor": 2
}
