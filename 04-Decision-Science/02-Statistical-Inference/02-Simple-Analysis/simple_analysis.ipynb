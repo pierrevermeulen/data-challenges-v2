{
 "cells": [
  {
   "cell_type": "markdown",
   "metadata": {},
   "source": [
    "# Simple orders analysis"
   ]
  },
  {
   "cell_type": "markdown",
   "metadata": {},
   "source": [
    "We are finally ready to start analysing our order dataset!\n",
    "\n",
    "Our objectif is to get an initial understanding of\n",
    "- Orders properties\n",
    "- Their associated `review_scores`"
   ]
  },
  {
   "cell_type": "code",
   "execution_count": 1,
   "metadata": {},
   "outputs": [],
   "source": [
    "#import modules \n",
    "import pandas as pd\n",
    "import numpy as np \n",
    "import seaborn as sns\n",
    "import matplotlib.pyplot as plt"
   ]
  },
  {
   "cell_type": "code",
   "execution_count": 2,
   "metadata": {},
   "outputs": [],
   "source": [
    "%load_ext autoreload\n",
    "%autoreload 2"
   ]
  },
  {
   "cell_type": "code",
   "execution_count": null,
   "metadata": {
    "scrolled": true
   },
   "outputs": [],
   "source": [
    "# import your newly coded order training set\n",
    "from olist.order import Order\n",
    "orders = Order().get_training_data(with_distance_seller_customer=True)"
   ]
  },
  {
   "cell_type": "markdown",
   "metadata": {
    "slideshow": {
     "slide_type": "slide"
    }
   },
   "source": [
    "## 1 - Inspect features"
   ]
  },
  {
   "cell_type": "markdown",
   "metadata": {},
   "source": [
    "❓ Print summary statistics `DataFrame.describe()` of each columns of the order dataset, and in particular `wait_time`\n",
    "\n",
    "Plot various histograms to get a sense of each variable distribution.\n",
    "In particular, create a `sns.FacetGrid()` of histograms for each `review_score`\n",
    "\n",
    "What do you notice for variables `price` and `freight_value` ? Analyse also `distance_seller_customer` if you have created it in `order.py`"
   ]
  },
  {
   "cell_type": "code",
   "execution_count": 36,
   "metadata": {},
   "outputs": [],
   "source": [
    "# Your plots here"
   ]
  },
  {
   "cell_type": "markdown",
   "metadata": {},
   "source": [
    "----\n",
    "❓Inspect the various correlations between features: which one seems most correlated with `review_score`?\n",
    "\n",
    "<details>\n",
    "    <summary>Hint</summary>\n",
    "\n",
    "`DataFrame.corr()` combined with `sns.heatmap()` and `cmap='coolwarm'`\n",
    "</details>"
   ]
  },
  {
   "cell_type": "code",
   "execution_count": 44,
   "metadata": {},
   "outputs": [],
   "source": [
    "# Your plots here"
   ]
  },
  {
   "cell_type": "markdown",
   "metadata": {},
   "source": [
    "## 2 - Simple regression of `review_score` against delivery duration"
   ]
  },
  {
   "cell_type": "markdown",
   "metadata": {},
   "source": [
    "It seems that `review_score` is mostly correlated with `wait_time` (r = 33%) and `delay_vs_expected` (r=27%).\n",
    "Let's investigate these with seaborn"
   ]
  },
  {
   "cell_type": "markdown",
   "metadata": {},
   "source": [
    "### 2.1 Plots\n",
    "❓ In one figure, create 2 subplots, that regress `review_score` on `wait_time` and `delay_vs_expected` respectively\n",
    "\n",
    "- Reduce your dataframe to a random subsample of 10,000 row for speed purpose (a good practice in data exploration)\n",
    "- use `DataFrame.sample()` with a fixed `random_state` to avoid changing sample at each execution if needed\n",
    "- Use `sns.regplot()` to plot the regression line\n",
    "- Add some `y_jitter` parameters to better visualize scatterplot density\n",
    "- Limit `xlim` and `ylim` to hide outliers"
   ]
  },
  {
   "cell_type": "code",
   "execution_count": 1,
   "metadata": {},
   "outputs": [],
   "source": [
    "# SUB-SAMPLE YOUR DATASET"
   ]
  },
  {
   "cell_type": "code",
   "execution_count": null,
   "metadata": {
    "scrolled": true
   },
   "outputs": [],
   "source": [
    "# YOUR PLOT HERE"
   ]
  },
  {
   "cell_type": "markdown",
   "metadata": {},
   "source": [
    "### 2.2 Interpretation"
   ]
  },
  {
   "cell_type": "markdown",
   "metadata": {},
   "source": [
    "❓Try to visually 'compute' the `slope` of each curve. Write down, in plain english, how would you interpret these coefficients if you were to explain it to a non-datascientist"
   ]
  },
  {
   "cell_type": "code",
   "execution_count": 1,
   "metadata": {},
   "outputs": [],
   "source": [
    "# Your answer here"
   ]
  },
  {
   "cell_type": "markdown",
   "metadata": {},
   "source": [
    "<details>\n",
    "    <summary>Answer</summary>\n",
    "\n",
    "\n",
    "- Slope wait_time = -0.05 : \"For each additional day an order takes to deliver, the review_score on average is reduced by 0.05\"\n",
    "- Slope delay = -0.1 : \"For each additional day _above expected_ an order takes to deliver, the review_score on average is reduced by 0.1\"\n",
    "\n",
    "Try to convince yourself intuitively why the latter is the most impactful than the former!"
   ]
  },
  {
   "cell_type": "markdown",
   "metadata": {},
   "source": [
    "### 2.3 Inferential analysis\n",
    "\n",
    "These slope coefficients have been computed only for a limited number of orders: 100,000 for the whole dataset, representing only 16 months of data.\n",
    "\n",
    "**How certain** are we that these coefficients are **statistically significant**? i.e that they do not capture random fluctuations due to the limited observation perdiod, and would not generalize well to future orders (all else being equal)?\n",
    "\n",
    "We need to estimate **confidence interval** around the mean value for these slope  \n",
    "$$slope_{wait} = -0.05 ± \\ ?? \\ \\text{[95% interval]} $$\n",
    "$$slope_{delay} = -0.1 ± \\ ?? \\ \\text{[95% interval]} $$\n",
    "\n",
    "Fortunately, seaborn already computes this 95% confidence interval for us the shaded blue cone around regression line!\n",
    "\n",
    "❓Use seaborn `regplot` to visualize the two confidence intervals:\n",
    "- Change the size of the sample by sub-sampling your dataset: Notice how the slope may change as sample size become smaller. What about the confidence interval?\n",
    "- Change the size of the confidence interval by playing with regplot `ci` parameter (95% by default)"
   ]
  },
  {
   "cell_type": "code",
   "execution_count": null,
   "metadata": {
    "scrolled": true
   },
   "outputs": [],
   "source": [
    "# YOUR PLOT HERE"
   ]
  },
  {
   "cell_type": "markdown",
   "metadata": {},
   "source": [
    "<details>\n",
    "    <summary>🔎 Interpretation</summary>\n",
    "\n",
    "When plotting all our datapoints:\n",
    "- The 95% confidence interval for the slope does not contains the value 0.\n",
    "- We are 95% confident that slower deliveries are associated with weaker reviews.\n",
    "- The `p-value` associated with the null-hypothesis \"review_score are not related with delivery duration\" is close to 0, and we could safely reject this hypothesis\n",
    "\n",
    "$\\implies$ Our findings are said to be **statistically significant**. \n",
    "\n",
    "However, **correlation does not implies causality**. It may well be that some products, which happen to be inherently slow to deliver on average (heavy ones maybe?), also happen to have consistent low review_score, whatever time it takes to be delivered. Identifying these **confounding factor** is crucial and cannot be done with simple univariate regression. We will see tomorrow the power of multivariate linear regression for that matter. \n",
    "</details>\n",
    "\n"
   ]
  },
  {
   "cell_type": "markdown",
   "metadata": {},
   "source": [
    "🏁 Congratulation! Don't forget to commit and push your notebook"
   ]
  }
 ],
 "metadata": {
  "kernelspec": {
   "display_name": "Python 3",
   "language": "python",
   "name": "python3"
  },
  "language_info": {
   "codemirror_mode": {
    "name": "ipython",
    "version": 3
   },
   "file_extension": ".py",
   "mimetype": "text/x-python",
   "name": "python",
   "nbconvert_exporter": "python",
   "pygments_lexer": "ipython3",
   "version": "3.8.5"
  },
  "toc": {
   "base_numbering": 1,
   "nav_menu": {},
   "number_sections": false,
   "sideBar": true,
   "skip_h1_title": false,
   "title_cell": "Table of Contents",
   "title_sidebar": "Contents",
   "toc_cell": false,
   "toc_position": {
    "height": "calc(100% - 180px)",
    "left": "10px",
    "top": "150px",
    "width": "165px"
   },
   "toc_section_display": true,
   "toc_window_display": true
  },
  "varInspector": {
   "cols": {
    "lenName": 16,
    "lenType": 16,
    "lenVar": 40
   },
   "kernels_config": {
    "python": {
     "delete_cmd_postfix": "",
     "delete_cmd_prefix": "del ",
     "library": "var_list.py",
     "varRefreshCmd": "print(var_dic_list())"
    },
    "r": {
     "delete_cmd_postfix": ") ",
     "delete_cmd_prefix": "rm(",
     "library": "var_list.r",
     "varRefreshCmd": "cat(var_dic_list()) "
    }
   },
   "types_to_exclude": [
    "module",
    "function",
    "builtin_function_or_method",
    "instance",
    "_Feature"
   ],
   "window_display": false
  }
 },
 "nbformat": 4,
 "nbformat_minor": 2
}
